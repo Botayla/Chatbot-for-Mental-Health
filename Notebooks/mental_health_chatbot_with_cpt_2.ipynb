{
  "cells": [
    {
      "cell_type": "code",
      "source": [
        "!pip install -U langchain-community"
      ],
      "metadata": {
        "colab": {
          "base_uri": "https://localhost:8080/",
          "height": 1000
        },
        "id": "j5E36yDPRtKv",
        "outputId": "79822047-57c0-47b6-a553-4f26f8df4a74"
      },
      "id": "j5E36yDPRtKv",
      "execution_count": 20,
      "outputs": [
        {
          "output_type": "stream",
          "name": "stdout",
          "text": [
            "Collecting langchain-community\n",
            "  Downloading langchain_community-0.3.29-py3-none-any.whl.metadata (2.9 kB)\n",
            "Requirement already satisfied: langchain-core<2.0.0,>=0.3.75 in /usr/local/lib/python3.12/dist-packages (from langchain-community) (0.3.76)\n",
            "Requirement already satisfied: langchain<2.0.0,>=0.3.27 in /usr/local/lib/python3.12/dist-packages (from langchain-community) (0.3.27)\n",
            "Requirement already satisfied: SQLAlchemy<3,>=1.4 in /usr/local/lib/python3.12/dist-packages (from langchain-community) (2.0.43)\n",
            "Collecting requests<3,>=2.32.5 (from langchain-community)\n",
            "  Downloading requests-2.32.5-py3-none-any.whl.metadata (4.9 kB)\n",
            "Requirement already satisfied: PyYAML>=5.3 in /usr/local/lib/python3.12/dist-packages (from langchain-community) (6.0.2)\n",
            "Requirement already satisfied: aiohttp<4.0.0,>=3.8.3 in /usr/local/lib/python3.12/dist-packages (from langchain-community) (3.12.15)\n",
            "Requirement already satisfied: tenacity!=8.4.0,<10,>=8.1.0 in /usr/local/lib/python3.12/dist-packages (from langchain-community) (8.5.0)\n",
            "Collecting dataclasses-json<0.7,>=0.6.7 (from langchain-community)\n",
            "  Downloading dataclasses_json-0.6.7-py3-none-any.whl.metadata (25 kB)\n",
            "Requirement already satisfied: pydantic-settings<3.0.0,>=2.10.1 in /usr/local/lib/python3.12/dist-packages (from langchain-community) (2.10.1)\n",
            "Requirement already satisfied: langsmith>=0.1.125 in /usr/local/lib/python3.12/dist-packages (from langchain-community) (0.4.28)\n",
            "Requirement already satisfied: httpx-sse<1.0.0,>=0.4.0 in /usr/local/lib/python3.12/dist-packages (from langchain-community) (0.4.1)\n",
            "Requirement already satisfied: numpy>=1.26.2 in /usr/local/lib/python3.12/dist-packages (from langchain-community) (2.0.2)\n",
            "Requirement already satisfied: aiohappyeyeballs>=2.5.0 in /usr/local/lib/python3.12/dist-packages (from aiohttp<4.0.0,>=3.8.3->langchain-community) (2.6.1)\n",
            "Requirement already satisfied: aiosignal>=1.4.0 in /usr/local/lib/python3.12/dist-packages (from aiohttp<4.0.0,>=3.8.3->langchain-community) (1.4.0)\n",
            "Requirement already satisfied: attrs>=17.3.0 in /usr/local/lib/python3.12/dist-packages (from aiohttp<4.0.0,>=3.8.3->langchain-community) (25.3.0)\n",
            "Requirement already satisfied: frozenlist>=1.1.1 in /usr/local/lib/python3.12/dist-packages (from aiohttp<4.0.0,>=3.8.3->langchain-community) (1.7.0)\n",
            "Requirement already satisfied: multidict<7.0,>=4.5 in /usr/local/lib/python3.12/dist-packages (from aiohttp<4.0.0,>=3.8.3->langchain-community) (6.6.4)\n",
            "Requirement already satisfied: propcache>=0.2.0 in /usr/local/lib/python3.12/dist-packages (from aiohttp<4.0.0,>=3.8.3->langchain-community) (0.3.2)\n",
            "Requirement already satisfied: yarl<2.0,>=1.17.0 in /usr/local/lib/python3.12/dist-packages (from aiohttp<4.0.0,>=3.8.3->langchain-community) (1.20.1)\n",
            "Collecting marshmallow<4.0.0,>=3.18.0 (from dataclasses-json<0.7,>=0.6.7->langchain-community)\n",
            "  Downloading marshmallow-3.26.1-py3-none-any.whl.metadata (7.3 kB)\n",
            "Collecting typing-inspect<1,>=0.4.0 (from dataclasses-json<0.7,>=0.6.7->langchain-community)\n",
            "  Downloading typing_inspect-0.9.0-py3-none-any.whl.metadata (1.5 kB)\n",
            "Requirement already satisfied: langchain-text-splitters<1.0.0,>=0.3.9 in /usr/local/lib/python3.12/dist-packages (from langchain<2.0.0,>=0.3.27->langchain-community) (0.3.11)\n",
            "Requirement already satisfied: pydantic<3.0.0,>=2.7.4 in /usr/local/lib/python3.12/dist-packages (from langchain<2.0.0,>=0.3.27->langchain-community) (2.11.9)\n",
            "Requirement already satisfied: jsonpatch<2.0,>=1.33 in /usr/local/lib/python3.12/dist-packages (from langchain-core<2.0.0,>=0.3.75->langchain-community) (1.33)\n",
            "Requirement already satisfied: typing-extensions>=4.7 in /usr/local/lib/python3.12/dist-packages (from langchain-core<2.0.0,>=0.3.75->langchain-community) (4.15.0)\n",
            "Requirement already satisfied: packaging>=23.2 in /usr/local/lib/python3.12/dist-packages (from langchain-core<2.0.0,>=0.3.75->langchain-community) (25.0)\n",
            "Requirement already satisfied: httpx<1,>=0.23.0 in /usr/local/lib/python3.12/dist-packages (from langsmith>=0.1.125->langchain-community) (0.28.1)\n",
            "Requirement already satisfied: orjson>=3.9.14 in /usr/local/lib/python3.12/dist-packages (from langsmith>=0.1.125->langchain-community) (3.11.3)\n",
            "Requirement already satisfied: requests-toolbelt>=1.0.0 in /usr/local/lib/python3.12/dist-packages (from langsmith>=0.1.125->langchain-community) (1.0.0)\n",
            "Requirement already satisfied: zstandard>=0.23.0 in /usr/local/lib/python3.12/dist-packages (from langsmith>=0.1.125->langchain-community) (0.25.0)\n",
            "Requirement already satisfied: python-dotenv>=0.21.0 in /usr/local/lib/python3.12/dist-packages (from pydantic-settings<3.0.0,>=2.10.1->langchain-community) (1.1.1)\n",
            "Requirement already satisfied: typing-inspection>=0.4.0 in /usr/local/lib/python3.12/dist-packages (from pydantic-settings<3.0.0,>=2.10.1->langchain-community) (0.4.1)\n",
            "Requirement already satisfied: charset_normalizer<4,>=2 in /usr/local/lib/python3.12/dist-packages (from requests<3,>=2.32.5->langchain-community) (3.4.3)\n",
            "Requirement already satisfied: idna<4,>=2.5 in /usr/local/lib/python3.12/dist-packages (from requests<3,>=2.32.5->langchain-community) (3.10)\n",
            "Requirement already satisfied: urllib3<3,>=1.21.1 in /usr/local/lib/python3.12/dist-packages (from requests<3,>=2.32.5->langchain-community) (2.5.0)\n",
            "Requirement already satisfied: certifi>=2017.4.17 in /usr/local/lib/python3.12/dist-packages (from requests<3,>=2.32.5->langchain-community) (2025.8.3)\n",
            "Requirement already satisfied: greenlet>=1 in /usr/local/lib/python3.12/dist-packages (from SQLAlchemy<3,>=1.4->langchain-community) (3.2.4)\n",
            "Requirement already satisfied: anyio in /usr/local/lib/python3.12/dist-packages (from httpx<1,>=0.23.0->langsmith>=0.1.125->langchain-community) (4.10.0)\n",
            "Requirement already satisfied: httpcore==1.* in /usr/local/lib/python3.12/dist-packages (from httpx<1,>=0.23.0->langsmith>=0.1.125->langchain-community) (1.0.9)\n",
            "Requirement already satisfied: h11>=0.16 in /usr/local/lib/python3.12/dist-packages (from httpcore==1.*->httpx<1,>=0.23.0->langsmith>=0.1.125->langchain-community) (0.16.0)\n",
            "Requirement already satisfied: jsonpointer>=1.9 in /usr/local/lib/python3.12/dist-packages (from jsonpatch<2.0,>=1.33->langchain-core<2.0.0,>=0.3.75->langchain-community) (3.0.0)\n",
            "Requirement already satisfied: annotated-types>=0.6.0 in /usr/local/lib/python3.12/dist-packages (from pydantic<3.0.0,>=2.7.4->langchain<2.0.0,>=0.3.27->langchain-community) (0.7.0)\n",
            "Requirement already satisfied: pydantic-core==2.33.2 in /usr/local/lib/python3.12/dist-packages (from pydantic<3.0.0,>=2.7.4->langchain<2.0.0,>=0.3.27->langchain-community) (2.33.2)\n",
            "Collecting mypy-extensions>=0.3.0 (from typing-inspect<1,>=0.4.0->dataclasses-json<0.7,>=0.6.7->langchain-community)\n",
            "  Downloading mypy_extensions-1.1.0-py3-none-any.whl.metadata (1.1 kB)\n",
            "Requirement already satisfied: sniffio>=1.1 in /usr/local/lib/python3.12/dist-packages (from anyio->httpx<1,>=0.23.0->langsmith>=0.1.125->langchain-community) (1.3.1)\n",
            "Downloading langchain_community-0.3.29-py3-none-any.whl (2.5 MB)\n",
            "\u001b[2K   \u001b[90m━━━━━━━━━━━━━━━━━━━━━━━━━━━━━━━━━━━━━━━━\u001b[0m \u001b[32m2.5/2.5 MB\u001b[0m \u001b[31m30.3 MB/s\u001b[0m eta \u001b[36m0:00:00\u001b[0m\n",
            "\u001b[?25hDownloading dataclasses_json-0.6.7-py3-none-any.whl (28 kB)\n",
            "Downloading requests-2.32.5-py3-none-any.whl (64 kB)\n",
            "\u001b[2K   \u001b[90m━━━━━━━━━━━━━━━━━━━━━━━━━━━━━━━━━━━━━━━━\u001b[0m \u001b[32m64.7/64.7 kB\u001b[0m \u001b[31m2.6 MB/s\u001b[0m eta \u001b[36m0:00:00\u001b[0m\n",
            "\u001b[?25hDownloading marshmallow-3.26.1-py3-none-any.whl (50 kB)\n",
            "\u001b[2K   \u001b[90m━━━━━━━━━━━━━━━━━━━━━━━━━━━━━━━━━━━━━━━━\u001b[0m \u001b[32m50.9/50.9 kB\u001b[0m \u001b[31m2.5 MB/s\u001b[0m eta \u001b[36m0:00:00\u001b[0m\n",
            "\u001b[?25hDownloading typing_inspect-0.9.0-py3-none-any.whl (8.8 kB)\n",
            "Downloading mypy_extensions-1.1.0-py3-none-any.whl (5.0 kB)\n",
            "Installing collected packages: requests, mypy-extensions, marshmallow, typing-inspect, dataclasses-json, langchain-community\n",
            "  Attempting uninstall: requests\n",
            "    Found existing installation: requests 2.32.4\n",
            "    Uninstalling requests-2.32.4:\n",
            "      Successfully uninstalled requests-2.32.4\n",
            "\u001b[31mERROR: pip's dependency resolver does not currently take into account all the packages that are installed. This behaviour is the source of the following dependency conflicts.\n",
            "google-colab 1.0.0 requires requests==2.32.4, but you have requests 2.32.5 which is incompatible.\u001b[0m\u001b[31m\n",
            "\u001b[0mSuccessfully installed dataclasses-json-0.6.7 langchain-community-0.3.29 marshmallow-3.26.1 mypy-extensions-1.1.0 requests-2.32.5 typing-inspect-0.9.0\n"
          ]
        },
        {
          "output_type": "display_data",
          "data": {
            "application/vnd.colab-display-data+json": {
              "pip_warning": {
                "packages": [
                  "requests"
                ]
              },
              "id": "4c4f7d2a8097464e9c696ff15241164d"
            }
          },
          "metadata": {}
        }
      ]
    },
    {
      "cell_type": "code",
      "source": [
        "!pip install pypdf"
      ],
      "metadata": {
        "colab": {
          "base_uri": "https://localhost:8080/"
        },
        "id": "x5H3Tj6ZSg0R",
        "outputId": "e219a0c7-9614-4c44-a805-30376f13acd4"
      },
      "id": "x5H3Tj6ZSg0R",
      "execution_count": 8,
      "outputs": [
        {
          "output_type": "stream",
          "name": "stdout",
          "text": [
            "Collecting pypdf\n",
            "  Downloading pypdf-6.1.0-py3-none-any.whl.metadata (7.1 kB)\n",
            "Downloading pypdf-6.1.0-py3-none-any.whl (322 kB)\n",
            "\u001b[?25l   \u001b[90m━━━━━━━━━━━━━━━━━━━━━━━━━━━━━━━━━━━━━━━━\u001b[0m \u001b[32m0.0/322.5 kB\u001b[0m \u001b[31m?\u001b[0m eta \u001b[36m-:--:--\u001b[0m\r\u001b[2K   \u001b[91m━━━━━━━━━━━━━━━━━━━━━━━━━━━━━━━━━━━━━━━\u001b[0m\u001b[90m╺\u001b[0m \u001b[32m317.4/322.5 kB\u001b[0m \u001b[31m16.6 MB/s\u001b[0m eta \u001b[36m0:00:01\u001b[0m\r\u001b[2K   \u001b[90m━━━━━━━━━━━━━━━━━━━━━━━━━━━━━━━━━━━━━━━━\u001b[0m \u001b[32m322.5/322.5 kB\u001b[0m \u001b[31m7.2 MB/s\u001b[0m eta \u001b[36m0:00:00\u001b[0m\n",
            "\u001b[?25hInstalling collected packages: pypdf\n",
            "Successfully installed pypdf-6.1.0\n"
          ]
        }
      ]
    },
    {
      "cell_type": "code",
      "source": [
        "!pip install faiss-cpu"
      ],
      "metadata": {
        "colab": {
          "base_uri": "https://localhost:8080/"
        },
        "id": "g3mQw7aIVQNq",
        "outputId": "c863c230-4fc8-4aae-90bb-774267deef7a"
      },
      "id": "g3mQw7aIVQNq",
      "execution_count": 18,
      "outputs": [
        {
          "output_type": "stream",
          "name": "stdout",
          "text": [
            "Collecting faiss-cpu\n",
            "  Downloading faiss_cpu-1.12.0-cp312-cp312-manylinux_2_27_x86_64.manylinux_2_28_x86_64.whl.metadata (5.1 kB)\n",
            "Requirement already satisfied: numpy<3.0,>=1.25.0 in /usr/local/lib/python3.12/dist-packages (from faiss-cpu) (2.0.2)\n",
            "Requirement already satisfied: packaging in /usr/local/lib/python3.12/dist-packages (from faiss-cpu) (25.0)\n",
            "Downloading faiss_cpu-1.12.0-cp312-cp312-manylinux_2_27_x86_64.manylinux_2_28_x86_64.whl (31.4 MB)\n",
            "\u001b[2K   \u001b[90m━━━━━━━━━━━━━━━━━━━━━━━━━━━━━━━━━━━━━━━━\u001b[0m \u001b[32m31.4/31.4 MB\u001b[0m \u001b[31m8.6 MB/s\u001b[0m eta \u001b[36m0:00:00\u001b[0m\n",
            "\u001b[?25hInstalling collected packages: faiss-cpu\n",
            "Successfully installed faiss-cpu-1.12.0\n"
          ]
        }
      ]
    },
    {
      "cell_type": "code",
      "execution_count": 19,
      "id": "af640b04",
      "metadata": {
        "execution": {
          "iopub.execute_input": "2025-09-20T13:50:49.169140Z",
          "iopub.status.busy": "2025-09-20T13:50:49.168689Z",
          "iopub.status.idle": "2025-09-20T13:50:49.172986Z",
          "shell.execute_reply": "2025-09-20T13:50:49.172140Z"
        },
        "papermill": {
          "duration": 0.011014,
          "end_time": "2025-09-20T13:50:49.174419",
          "exception": false,
          "start_time": "2025-09-20T13:50:49.163405",
          "status": "completed"
        },
        "tags": [],
        "id": "af640b04"
      },
      "outputs": [],
      "source": [
        "import warnings\n",
        "warnings.filterwarnings(\"ignore\")"
      ]
    },
    {
      "cell_type": "code",
      "execution_count": 20,
      "id": "dddd5b4a",
      "metadata": {
        "execution": {
          "iopub.execute_input": "2025-09-20T13:50:49.184671Z",
          "iopub.status.busy": "2025-09-20T13:50:49.184386Z",
          "iopub.status.idle": "2025-09-20T13:51:23.805883Z",
          "shell.execute_reply": "2025-09-20T13:51:23.804947Z"
        },
        "papermill": {
          "duration": 34.628394,
          "end_time": "2025-09-20T13:51:23.807596",
          "exception": false,
          "start_time": "2025-09-20T13:50:49.179202",
          "status": "completed"
        },
        "tags": [],
        "id": "dddd5b4a"
      },
      "outputs": [],
      "source": [
        "import numpy as np\n",
        "import pandas as pd\n",
        "import matplotlib.pyplot as plt\n",
        "import seaborn as sns\n",
        "from transformers import GPT2Tokenizer , GPT2LMHeadModel , Trainer , TrainingArguments\n",
        "from datasets import Dataset\n",
        "from transformers import DataCollatorForLanguageModeling"
      ]
    },
    {
      "cell_type": "code",
      "execution_count": 21,
      "id": "118199e8",
      "metadata": {
        "execution": {
          "iopub.execute_input": "2025-09-20T13:51:23.818363Z",
          "iopub.status.busy": "2025-09-20T13:51:23.817668Z",
          "iopub.status.idle": "2025-09-20T13:51:23.854508Z",
          "shell.execute_reply": "2025-09-20T13:51:23.853588Z"
        },
        "papermill": {
          "duration": 0.043642,
          "end_time": "2025-09-20T13:51:23.856023",
          "exception": false,
          "start_time": "2025-09-20T13:51:23.812381",
          "status": "completed"
        },
        "tags": [],
        "colab": {
          "base_uri": "https://localhost:8080/",
          "height": 206
        },
        "id": "118199e8",
        "outputId": "daa964dd-11d0-4288-9730-1878c2bcf7c9"
      },
      "outputs": [
        {
          "output_type": "execute_result",
          "data": {
            "text/plain": [
              "   Question_ID                                          Questions  \\\n",
              "0      1590140        What does it mean to have a mental illness?   \n",
              "1      2110618                    Who does mental illness affect?   \n",
              "2      6361820                        What causes mental illness?   \n",
              "3      9434130  What are some of the warning signs of mental i...   \n",
              "4      7657263            Can people with mental illness recover?   \n",
              "\n",
              "                                             Answers  \n",
              "0  Mental illnesses are health conditions that di...  \n",
              "1  It is estimated that mental illness affects 1 ...  \n",
              "2  It is estimated that mental illness affects 1 ...  \n",
              "3  Symptoms of mental health disorders vary depen...  \n",
              "4  When healing from mental illness, early identi...  "
            ],
            "text/html": [
              "\n",
              "  <div id=\"df-13711e10-caf4-4fd8-929e-9807e1d9dcc8\" class=\"colab-df-container\">\n",
              "    <div>\n",
              "<style scoped>\n",
              "    .dataframe tbody tr th:only-of-type {\n",
              "        vertical-align: middle;\n",
              "    }\n",
              "\n",
              "    .dataframe tbody tr th {\n",
              "        vertical-align: top;\n",
              "    }\n",
              "\n",
              "    .dataframe thead th {\n",
              "        text-align: right;\n",
              "    }\n",
              "</style>\n",
              "<table border=\"1\" class=\"dataframe\">\n",
              "  <thead>\n",
              "    <tr style=\"text-align: right;\">\n",
              "      <th></th>\n",
              "      <th>Question_ID</th>\n",
              "      <th>Questions</th>\n",
              "      <th>Answers</th>\n",
              "    </tr>\n",
              "  </thead>\n",
              "  <tbody>\n",
              "    <tr>\n",
              "      <th>0</th>\n",
              "      <td>1590140</td>\n",
              "      <td>What does it mean to have a mental illness?</td>\n",
              "      <td>Mental illnesses are health conditions that di...</td>\n",
              "    </tr>\n",
              "    <tr>\n",
              "      <th>1</th>\n",
              "      <td>2110618</td>\n",
              "      <td>Who does mental illness affect?</td>\n",
              "      <td>It is estimated that mental illness affects 1 ...</td>\n",
              "    </tr>\n",
              "    <tr>\n",
              "      <th>2</th>\n",
              "      <td>6361820</td>\n",
              "      <td>What causes mental illness?</td>\n",
              "      <td>It is estimated that mental illness affects 1 ...</td>\n",
              "    </tr>\n",
              "    <tr>\n",
              "      <th>3</th>\n",
              "      <td>9434130</td>\n",
              "      <td>What are some of the warning signs of mental i...</td>\n",
              "      <td>Symptoms of mental health disorders vary depen...</td>\n",
              "    </tr>\n",
              "    <tr>\n",
              "      <th>4</th>\n",
              "      <td>7657263</td>\n",
              "      <td>Can people with mental illness recover?</td>\n",
              "      <td>When healing from mental illness, early identi...</td>\n",
              "    </tr>\n",
              "  </tbody>\n",
              "</table>\n",
              "</div>\n",
              "    <div class=\"colab-df-buttons\">\n",
              "\n",
              "  <div class=\"colab-df-container\">\n",
              "    <button class=\"colab-df-convert\" onclick=\"convertToInteractive('df-13711e10-caf4-4fd8-929e-9807e1d9dcc8')\"\n",
              "            title=\"Convert this dataframe to an interactive table.\"\n",
              "            style=\"display:none;\">\n",
              "\n",
              "  <svg xmlns=\"http://www.w3.org/2000/svg\" height=\"24px\" viewBox=\"0 -960 960 960\">\n",
              "    <path d=\"M120-120v-720h720v720H120Zm60-500h600v-160H180v160Zm220 220h160v-160H400v160Zm0 220h160v-160H400v160ZM180-400h160v-160H180v160Zm440 0h160v-160H620v160ZM180-180h160v-160H180v160Zm440 0h160v-160H620v160Z\"/>\n",
              "  </svg>\n",
              "    </button>\n",
              "\n",
              "  <style>\n",
              "    .colab-df-container {\n",
              "      display:flex;\n",
              "      gap: 12px;\n",
              "    }\n",
              "\n",
              "    .colab-df-convert {\n",
              "      background-color: #E8F0FE;\n",
              "      border: none;\n",
              "      border-radius: 50%;\n",
              "      cursor: pointer;\n",
              "      display: none;\n",
              "      fill: #1967D2;\n",
              "      height: 32px;\n",
              "      padding: 0 0 0 0;\n",
              "      width: 32px;\n",
              "    }\n",
              "\n",
              "    .colab-df-convert:hover {\n",
              "      background-color: #E2EBFA;\n",
              "      box-shadow: 0px 1px 2px rgba(60, 64, 67, 0.3), 0px 1px 3px 1px rgba(60, 64, 67, 0.15);\n",
              "      fill: #174EA6;\n",
              "    }\n",
              "\n",
              "    .colab-df-buttons div {\n",
              "      margin-bottom: 4px;\n",
              "    }\n",
              "\n",
              "    [theme=dark] .colab-df-convert {\n",
              "      background-color: #3B4455;\n",
              "      fill: #D2E3FC;\n",
              "    }\n",
              "\n",
              "    [theme=dark] .colab-df-convert:hover {\n",
              "      background-color: #434B5C;\n",
              "      box-shadow: 0px 1px 3px 1px rgba(0, 0, 0, 0.15);\n",
              "      filter: drop-shadow(0px 1px 2px rgba(0, 0, 0, 0.3));\n",
              "      fill: #FFFFFF;\n",
              "    }\n",
              "  </style>\n",
              "\n",
              "    <script>\n",
              "      const buttonEl =\n",
              "        document.querySelector('#df-13711e10-caf4-4fd8-929e-9807e1d9dcc8 button.colab-df-convert');\n",
              "      buttonEl.style.display =\n",
              "        google.colab.kernel.accessAllowed ? 'block' : 'none';\n",
              "\n",
              "      async function convertToInteractive(key) {\n",
              "        const element = document.querySelector('#df-13711e10-caf4-4fd8-929e-9807e1d9dcc8');\n",
              "        const dataTable =\n",
              "          await google.colab.kernel.invokeFunction('convertToInteractive',\n",
              "                                                    [key], {});\n",
              "        if (!dataTable) return;\n",
              "\n",
              "        const docLinkHtml = 'Like what you see? Visit the ' +\n",
              "          '<a target=\"_blank\" href=https://colab.research.google.com/notebooks/data_table.ipynb>data table notebook</a>'\n",
              "          + ' to learn more about interactive tables.';\n",
              "        element.innerHTML = '';\n",
              "        dataTable['output_type'] = 'display_data';\n",
              "        await google.colab.output.renderOutput(dataTable, element);\n",
              "        const docLink = document.createElement('div');\n",
              "        docLink.innerHTML = docLinkHtml;\n",
              "        element.appendChild(docLink);\n",
              "      }\n",
              "    </script>\n",
              "  </div>\n",
              "\n",
              "\n",
              "    <div id=\"df-9b18b026-a12c-4679-b119-3bf5cfbe9cd1\">\n",
              "      <button class=\"colab-df-quickchart\" onclick=\"quickchart('df-9b18b026-a12c-4679-b119-3bf5cfbe9cd1')\"\n",
              "                title=\"Suggest charts\"\n",
              "                style=\"display:none;\">\n",
              "\n",
              "<svg xmlns=\"http://www.w3.org/2000/svg\" height=\"24px\"viewBox=\"0 0 24 24\"\n",
              "     width=\"24px\">\n",
              "    <g>\n",
              "        <path d=\"M19 3H5c-1.1 0-2 .9-2 2v14c0 1.1.9 2 2 2h14c1.1 0 2-.9 2-2V5c0-1.1-.9-2-2-2zM9 17H7v-7h2v7zm4 0h-2V7h2v10zm4 0h-2v-4h2v4z\"/>\n",
              "    </g>\n",
              "</svg>\n",
              "      </button>\n",
              "\n",
              "<style>\n",
              "  .colab-df-quickchart {\n",
              "      --bg-color: #E8F0FE;\n",
              "      --fill-color: #1967D2;\n",
              "      --hover-bg-color: #E2EBFA;\n",
              "      --hover-fill-color: #174EA6;\n",
              "      --disabled-fill-color: #AAA;\n",
              "      --disabled-bg-color: #DDD;\n",
              "  }\n",
              "\n",
              "  [theme=dark] .colab-df-quickchart {\n",
              "      --bg-color: #3B4455;\n",
              "      --fill-color: #D2E3FC;\n",
              "      --hover-bg-color: #434B5C;\n",
              "      --hover-fill-color: #FFFFFF;\n",
              "      --disabled-bg-color: #3B4455;\n",
              "      --disabled-fill-color: #666;\n",
              "  }\n",
              "\n",
              "  .colab-df-quickchart {\n",
              "    background-color: var(--bg-color);\n",
              "    border: none;\n",
              "    border-radius: 50%;\n",
              "    cursor: pointer;\n",
              "    display: none;\n",
              "    fill: var(--fill-color);\n",
              "    height: 32px;\n",
              "    padding: 0;\n",
              "    width: 32px;\n",
              "  }\n",
              "\n",
              "  .colab-df-quickchart:hover {\n",
              "    background-color: var(--hover-bg-color);\n",
              "    box-shadow: 0 1px 2px rgba(60, 64, 67, 0.3), 0 1px 3px 1px rgba(60, 64, 67, 0.15);\n",
              "    fill: var(--button-hover-fill-color);\n",
              "  }\n",
              "\n",
              "  .colab-df-quickchart-complete:disabled,\n",
              "  .colab-df-quickchart-complete:disabled:hover {\n",
              "    background-color: var(--disabled-bg-color);\n",
              "    fill: var(--disabled-fill-color);\n",
              "    box-shadow: none;\n",
              "  }\n",
              "\n",
              "  .colab-df-spinner {\n",
              "    border: 2px solid var(--fill-color);\n",
              "    border-color: transparent;\n",
              "    border-bottom-color: var(--fill-color);\n",
              "    animation:\n",
              "      spin 1s steps(1) infinite;\n",
              "  }\n",
              "\n",
              "  @keyframes spin {\n",
              "    0% {\n",
              "      border-color: transparent;\n",
              "      border-bottom-color: var(--fill-color);\n",
              "      border-left-color: var(--fill-color);\n",
              "    }\n",
              "    20% {\n",
              "      border-color: transparent;\n",
              "      border-left-color: var(--fill-color);\n",
              "      border-top-color: var(--fill-color);\n",
              "    }\n",
              "    30% {\n",
              "      border-color: transparent;\n",
              "      border-left-color: var(--fill-color);\n",
              "      border-top-color: var(--fill-color);\n",
              "      border-right-color: var(--fill-color);\n",
              "    }\n",
              "    40% {\n",
              "      border-color: transparent;\n",
              "      border-right-color: var(--fill-color);\n",
              "      border-top-color: var(--fill-color);\n",
              "    }\n",
              "    60% {\n",
              "      border-color: transparent;\n",
              "      border-right-color: var(--fill-color);\n",
              "    }\n",
              "    80% {\n",
              "      border-color: transparent;\n",
              "      border-right-color: var(--fill-color);\n",
              "      border-bottom-color: var(--fill-color);\n",
              "    }\n",
              "    90% {\n",
              "      border-color: transparent;\n",
              "      border-bottom-color: var(--fill-color);\n",
              "    }\n",
              "  }\n",
              "</style>\n",
              "\n",
              "      <script>\n",
              "        async function quickchart(key) {\n",
              "          const quickchartButtonEl =\n",
              "            document.querySelector('#' + key + ' button');\n",
              "          quickchartButtonEl.disabled = true;  // To prevent multiple clicks.\n",
              "          quickchartButtonEl.classList.add('colab-df-spinner');\n",
              "          try {\n",
              "            const charts = await google.colab.kernel.invokeFunction(\n",
              "                'suggestCharts', [key], {});\n",
              "          } catch (error) {\n",
              "            console.error('Error during call to suggestCharts:', error);\n",
              "          }\n",
              "          quickchartButtonEl.classList.remove('colab-df-spinner');\n",
              "          quickchartButtonEl.classList.add('colab-df-quickchart-complete');\n",
              "        }\n",
              "        (() => {\n",
              "          let quickchartButtonEl =\n",
              "            document.querySelector('#df-9b18b026-a12c-4679-b119-3bf5cfbe9cd1 button');\n",
              "          quickchartButtonEl.style.display =\n",
              "            google.colab.kernel.accessAllowed ? 'block' : 'none';\n",
              "        })();\n",
              "      </script>\n",
              "    </div>\n",
              "\n",
              "    </div>\n",
              "  </div>\n"
            ],
            "application/vnd.google.colaboratory.intrinsic+json": {
              "type": "dataframe",
              "variable_name": "df",
              "summary": "{\n  \"name\": \"df\",\n  \"rows\": 98,\n  \"fields\": [\n    {\n      \"column\": \"Question_ID\",\n      \"properties\": {\n        \"dtype\": \"number\",\n        \"std\": 2696725,\n        \"min\": 1030153,\n        \"max\": 9679704,\n        \"num_unique_values\": 98,\n        \"samples\": [\n          4925221,\n          7535002,\n          7807643\n        ],\n        \"semantic_type\": \"\",\n        \"description\": \"\"\n      }\n    },\n    {\n      \"column\": \"Questions\",\n      \"properties\": {\n        \"dtype\": \"string\",\n        \"num_unique_values\": 98,\n        \"samples\": [\n          \"What's the difference between antidepressants?\",\n          \"How can I challenge thinking traps?\",\n          \"If cannabis is dangerous, why are we legalizing it?\"\n        ],\n        \"semantic_type\": \"\",\n        \"description\": \"\"\n      }\n    },\n    {\n      \"column\": \"Answers\",\n      \"properties\": {\n        \"dtype\": \"string\",\n        \"num_unique_values\": 98,\n        \"samples\": [\n          \"There are many different types of antidepressant medications, and they each work in different ways. Antidepressants are divided into \\u201cclasses\\u201d based on what they do and which chemical messengers in the brain (called neurotransmitters) they are thought to influence. Each class may contain several different medications, which each have slightly different ways of working. Below, you\\u2019ll find common classes and examples of common medications. The first name is the generic name and name in brackets is the brand name. \\n SSRIs or selective serotonin reuptake inhibitors: fluoxetine (Prozac), paroxetine (Paxil), citalopram (Celexa), escitalopram (Cipralex), and sertraline (Zoloft) \\n SNRIs or serotonin and norepinephrine reuptake inhibitors: venlafaxine (Effexor) and duloxetine (Cymbalta) \\n NDRIs or norepinephrine-dopamine reuptake inhibitors: bupropion (Wellbutrin and Zyban) \\n NaSSAs or noradrenergic and specific serotonergic antidepressants: mirtazapine (Remeron), which can also be classed as a TeCa or tetracyclic antidepressant \\n SARIs or serotonin antagonist and reuptake inhibitors: trazodone (Desyrel) \\n There are other classes of antidepressants (such as MAOIs or triclycics) that are much older and have more side effects or restrictions. They are usually prescribed when newer antidepressants don\\u2019t work. Other medications such as lithium, thyroid medication, or antipsychotics may also be prescribed, often in combination with an antidepressant to boost its effect. Antidepressants are not only used to treat depression\\u2014they may be prescribed to treat other illnesses like anxiety disorders. \\n Only medical doctors like family doctors or psychiatrists can prescribe antidepressants. If your doctor recommends that you consider antidepressants, keep in mind that most people have to try a few different options before they find the right medication. It can be a frustrating process, especially when you feel unwell, but it\\u2019s important to find something that works for you! Side effects and benefits can vary significantly between different people, and it\\u2019s difficult to predict how a medication might work without trying it out first. Everyone responds to them differently. It\\u2019s very important to have ongoing discussions with your health care team regarding your medication so you can bring up any problems or concerns\\u2014or even ask more about how your particular antidepressant works.\",\n          \"What you tell yourself about a situation affects how you feel and what you do. Sometimes your interpretation of a situation can get distorted and you only focus on the negative aspects\\u2014this is normal and expected. However, when you interpret situations too negatively, you might feel worse. You're also more likely to respond to the situation in ways that are unhelpful in the long term. \\n These automatic thoughts and assumptions are sometimes called thinking traps. Everyone falls into unbalanced thinking traps from time to time. You're most likely to distort your interpretation of things when you already feel sad, angry, anxious, depressed or stressed. You're also more vulnerable to thinking traps when you're not taking good care of yourself, like when you're not eating or sleeping well. \\n Here are some common thinking traps: \\n Thinking that a negative situation is part of a constant cycle of bad things that happen. People who overgeneralize often use words like \\\"always\\\" or \\\"never.\\\" \\n I was really looking forward to that concert, and now it\\u2019s cancelled. This always happens to me! I never get to do fun things! \\n Seeing things as only right or wrong, good or bad, perfect or terrible. People who think in black and white terms see a small mistake as a total failure. \\n I wanted to eat healthier, but I ate too many snacks today. This plan is a total failure! \\n Saying only negative things about yourself or other people. \\n I made a mistake. I'm stupid! My boss told me that I made a mistake. My boss is a total jerk! \\n Predicting that something bad will happen without any evidence. \\n I've been doing what I can to stay home and reduce the risks, but I just know that I'm going to get sick. \\n Focusing only on the negative parts of a situation and ignoring anything good or positive. \\n I know there's a lot I can do at home, but I'm just so sick of this. Everything is terrible. \\n Believing that bad feelings or emotions reflect the situation. \\n I feel scared and overwhelmed right now, so that must mean everything is very bad and will never get better. \\n Telling yourself how you \\\"should\\\" or \\\"must\\\" act. \\n I should be able to handle this without getting upset and crying! \\n Here are helpful strategies to challenge common thinking traps. Many people find their mood and confidence improve after working through these skills. You can also find worksheets to help you go through each step at www.heretohelp.bc.ca. \\n Don't try to get out of a thinking trap by just telling yourself to stop thinking that way. \\n This doesn't let you look at the evidence and challenge the thinking trap. When you try and push upsetting thoughts away, they are more likely to keep popping back into your mind. \\n Ask yourself the following questions when something upsetting happens: \\n What is the situation? What actually happened? Only include facts that everyone would agree on. \\n What are your thoughts? What are you telling yourself? \\n What are your emotions? How do you feel? \\n What are your behaviours? How are you reacting? What are you doing to cope? \\n Take a look at the thoughts you've listed. Are you using any of the thinking traps and falling into distorted thinking patterns? It's common to fall into more than one thinking trap. Go back to the thinking trap list and identify which ones apply to you and your current situation. \\n The best way to break a thinking trap is to look at your thoughts like a scientist and consider the hard facts. Use the evidence you've collected to challenge your thinking traps. Here are some ways to do that: \\n Try to find evidence against the thought. If you make a mistake at work, you might automatically think, \\\"I can't do anything right! I must be a terrible employee!\\\" When this thought comes up, you might challenge it by asking, \\\"Is there any evidence to support this thought? Is there any evidence to disprove this thought?\\\" You might quickly realize that your boss has complimented your work recently, which doesn't support the idea that you're a bad employee. \\n Ask yourself, \\\"Would I judge other people if they did the same thing? Am I being harder on myself than I am on other people?\\\" This is a great method for challenging thinking traps that involve harsh self-criticism. \\n Find out whether other people you trust agree with your thoughts. For example, you might have trouble with one of your kids and think, \\\"Good parents wouldn't have this kind of problem.\\\" To challenge this thought, you can ask other parents if they've ever had any problems with their kids. \\n Test your beliefs in person. For example, if you think that your friends don't care about you, call a few friends and make plans to start a regular video call. If you assumed that they will all say no, you may be pleasantly surprised to hear that they do want to see you. \\n Once you have worked through some challenges, try to think of a more balanced thought to replace the old thinking traps. Let's use the following example: \\n I feel sad and overwhelmed. I'm having a hard time figuring out what to do. \\n I'm the worst! I should be able to handle this! \\n Labeling \\n 'Should' statements \\n Examine the evidence: I have a lot of challenges right now. I'm worried about my family and everything seems to change so quickly. I've successfully handled complicated situations in the past, so I know I can do this. \\n It's okay to feel upset right now\\u2014there's a lot going on. I'm going to think about how I got through past situations and see what worked for me. I'm trying to do a lot on my own, so I'm going to talk to my family so we can make a plan and work together. \\n Try the Healthy Thinking Worksheet at www.heretohelp.bc.ca \\n Check out Anxiety Canada's articles Helpful Thinking and Thinking Traps \\n This page is adapted from Wellness Module 8: Healthy Thinking at www.heretohelp.bc.ca/wellness-module/wellness-module-8-healthy-thinking.\",\n          \"Cannabis smoke, for example, contains cancer-causing toxins. However, the risk of developing some cancers (e.g., mouth, tongue and lung) is less for cannabis smokers than tobacco smokers, partly because they tend to smoke less than tobacco users. And, while all drugs have an effect on the brain, the particular properties of the drug influence the level of risk of harmful consequences. The negative effects of cannabis on the brain, for example, seem to be less than the effects of some substances such as alcohol. \\n Legalizing cannabis provides an opportunity to put in place regulations to minimize potential harms. The danger of buying and using any illegal drug is that we can never know for sure what exactly is in it. Cannabis is legal in Canada as of October 17, 2018. Adults (over age 19 in BC) are now permitted to possess up to 30 grams of cannabis in public. Cannabis is regulated by the Province of British Columbia and will be sold through the Liquor Distribution Branch. Cannabis will be tested for quality. \\n When drugs are produced and obtained inside a regulated system, it is possible for us to know about the contents and dosage of what we are taking. This helps us manage the risks. However, it is likely that cannabis will still be available outside the government system. It is important to know that the quality of cannabis obtained from a dealer or a friend is unknown and may contain contaminants like mold, mildew, or fillers that may be toxic. \\n The legalization of cannabis also provides us with openings to engage in honest and thoughtful discussions about drug use with our families and communities. When dealing with complex issues, like cannabis policy, no one has all the answers. But as community members, we all have thoughts, feelings and experiences around drugs and drug use to share with each other. Engaging together to explore and share ideas will help us discover how to manage use, as individuals and communities, in ways that maximize benefit and minimize harm. \\n The Canadian Institute for Substance Use Research, formerly CARBC, is a member of the BC Partners for Mental Health and Addictions Information. The institute is dedicated to the study of substance use in support of community-wide efforts aimed at providing all people with access to healthier lives, whether using substances or not. For more, visit www.cisur.ca.\"\n        ],\n        \"semantic_type\": \"\",\n        \"description\": \"\"\n      }\n    }\n  ]\n}"
            }
          },
          "metadata": {},
          "execution_count": 21
        }
      ],
      "source": [
        "df = pd.read_csv(r\"/content/Mental_Health_FAQ.csv\")\n",
        "df.head()          # show first 5 rows"
      ]
    },
    {
      "cell_type": "code",
      "execution_count": 22,
      "id": "6416b99b",
      "metadata": {
        "execution": {
          "iopub.execute_input": "2025-09-20T13:51:23.866596Z",
          "iopub.status.busy": "2025-09-20T13:51:23.866314Z",
          "iopub.status.idle": "2025-09-20T13:51:23.886812Z",
          "shell.execute_reply": "2025-09-20T13:51:23.885654Z"
        },
        "papermill": {
          "duration": 0.027034,
          "end_time": "2025-09-20T13:51:23.888159",
          "exception": false,
          "start_time": "2025-09-20T13:51:23.861125",
          "status": "completed"
        },
        "tags": [],
        "colab": {
          "base_uri": "https://localhost:8080/"
        },
        "id": "6416b99b",
        "outputId": "38e5e75c-500f-45c9-9259-8a568b6b7f1b"
      },
      "outputs": [
        {
          "output_type": "stream",
          "name": "stdout",
          "text": [
            "<class 'pandas.core.frame.DataFrame'>\n",
            "RangeIndex: 98 entries, 0 to 97\n",
            "Data columns (total 3 columns):\n",
            " #   Column       Non-Null Count  Dtype \n",
            "---  ------       --------------  ----- \n",
            " 0   Question_ID  98 non-null     int64 \n",
            " 1   Questions    98 non-null     object\n",
            " 2   Answers      98 non-null     object\n",
            "dtypes: int64(1), object(2)\n",
            "memory usage: 2.4+ KB\n"
          ]
        }
      ],
      "source": [
        "# get summary data\n",
        "df.info()"
      ]
    },
    {
      "cell_type": "code",
      "execution_count": 23,
      "id": "ea1c1728",
      "metadata": {
        "execution": {
          "iopub.execute_input": "2025-09-20T13:51:23.899143Z",
          "iopub.status.busy": "2025-09-20T13:51:23.898370Z",
          "iopub.status.idle": "2025-09-20T13:51:23.904289Z",
          "shell.execute_reply": "2025-09-20T13:51:23.903389Z"
        },
        "papermill": {
          "duration": 0.012733,
          "end_time": "2025-09-20T13:51:23.905634",
          "exception": false,
          "start_time": "2025-09-20T13:51:23.892901",
          "status": "completed"
        },
        "tags": [],
        "colab": {
          "base_uri": "https://localhost:8080/"
        },
        "id": "ea1c1728",
        "outputId": "0e366f6d-72da-454a-d857-db93d643e4a6"
      },
      "outputs": [
        {
          "output_type": "execute_result",
          "data": {
            "text/plain": [
              "Index(['Question_ID', 'Questions', 'Answers'], dtype='object')"
            ]
          },
          "metadata": {},
          "execution_count": 23
        }
      ],
      "source": [
        "df.columns"
      ]
    },
    {
      "cell_type": "markdown",
      "id": "60133cf3",
      "metadata": {
        "papermill": {
          "duration": 0.005399,
          "end_time": "2025-09-20T13:51:23.915820",
          "exception": false,
          "start_time": "2025-09-20T13:51:23.910421",
          "status": "completed"
        },
        "tags": [],
        "id": "60133cf3"
      },
      "source": [
        "- Question_ID : unique idenitifier\n",
        "- Questions : Questions like users want to ask about\n",
        "- Answers : Answers of Questions"
      ]
    },
    {
      "cell_type": "code",
      "execution_count": 24,
      "id": "d8e301ec",
      "metadata": {
        "execution": {
          "iopub.execute_input": "2025-09-20T13:51:23.925944Z",
          "iopub.status.busy": "2025-09-20T13:51:23.925610Z",
          "iopub.status.idle": "2025-09-20T13:51:23.936956Z",
          "shell.execute_reply": "2025-09-20T13:51:23.936143Z"
        },
        "papermill": {
          "duration": 0.017967,
          "end_time": "2025-09-20T13:51:23.938271",
          "exception": false,
          "start_time": "2025-09-20T13:51:23.920304",
          "status": "completed"
        },
        "tags": [],
        "colab": {
          "base_uri": "https://localhost:8080/",
          "height": 423
        },
        "id": "d8e301ec",
        "outputId": "f0354a43-2606-47da-972f-b1f5d8129703"
      },
      "outputs": [
        {
          "output_type": "execute_result",
          "data": {
            "text/plain": [
              "                                            Questions  \\\n",
              "0         What does it mean to have a mental illness?   \n",
              "1                     Who does mental illness affect?   \n",
              "2                         What causes mental illness?   \n",
              "3   What are some of the warning signs of mental i...   \n",
              "4             Can people with mental illness recover?   \n",
              "..                                                ...   \n",
              "93            How do I know if I'm drinking too much?   \n",
              "94  If cannabis is dangerous, why are we legalizin...   \n",
              "95       How can I convince my kids not to use drugs?   \n",
              "96  What is the legal status (and evidence) of CBD...   \n",
              "97                    What is the evidence on vaping?   \n",
              "\n",
              "                                              Answers  \n",
              "0   Mental illnesses are health conditions that di...  \n",
              "1   It is estimated that mental illness affects 1 ...  \n",
              "2   It is estimated that mental illness affects 1 ...  \n",
              "3   Symptoms of mental health disorders vary depen...  \n",
              "4   When healing from mental illness, early identi...  \n",
              "..                                                ...  \n",
              "93  Sorting out if you are drinking too much can b...  \n",
              "94  Cannabis smoke, for example, contains cancer-c...  \n",
              "95  You can't. But you can influence their capacit...  \n",
              "96  Cannabidiol or CBD is a naturally occurring co...  \n",
              "97  \"Vaping\" is the term for using a device where ...  \n",
              "\n",
              "[98 rows x 2 columns]"
            ],
            "text/html": [
              "\n",
              "  <div id=\"df-e4909ce2-bf6f-4839-8059-589694d5ccd9\" class=\"colab-df-container\">\n",
              "    <div>\n",
              "<style scoped>\n",
              "    .dataframe tbody tr th:only-of-type {\n",
              "        vertical-align: middle;\n",
              "    }\n",
              "\n",
              "    .dataframe tbody tr th {\n",
              "        vertical-align: top;\n",
              "    }\n",
              "\n",
              "    .dataframe thead th {\n",
              "        text-align: right;\n",
              "    }\n",
              "</style>\n",
              "<table border=\"1\" class=\"dataframe\">\n",
              "  <thead>\n",
              "    <tr style=\"text-align: right;\">\n",
              "      <th></th>\n",
              "      <th>Questions</th>\n",
              "      <th>Answers</th>\n",
              "    </tr>\n",
              "  </thead>\n",
              "  <tbody>\n",
              "    <tr>\n",
              "      <th>0</th>\n",
              "      <td>What does it mean to have a mental illness?</td>\n",
              "      <td>Mental illnesses are health conditions that di...</td>\n",
              "    </tr>\n",
              "    <tr>\n",
              "      <th>1</th>\n",
              "      <td>Who does mental illness affect?</td>\n",
              "      <td>It is estimated that mental illness affects 1 ...</td>\n",
              "    </tr>\n",
              "    <tr>\n",
              "      <th>2</th>\n",
              "      <td>What causes mental illness?</td>\n",
              "      <td>It is estimated that mental illness affects 1 ...</td>\n",
              "    </tr>\n",
              "    <tr>\n",
              "      <th>3</th>\n",
              "      <td>What are some of the warning signs of mental i...</td>\n",
              "      <td>Symptoms of mental health disorders vary depen...</td>\n",
              "    </tr>\n",
              "    <tr>\n",
              "      <th>4</th>\n",
              "      <td>Can people with mental illness recover?</td>\n",
              "      <td>When healing from mental illness, early identi...</td>\n",
              "    </tr>\n",
              "    <tr>\n",
              "      <th>...</th>\n",
              "      <td>...</td>\n",
              "      <td>...</td>\n",
              "    </tr>\n",
              "    <tr>\n",
              "      <th>93</th>\n",
              "      <td>How do I know if I'm drinking too much?</td>\n",
              "      <td>Sorting out if you are drinking too much can b...</td>\n",
              "    </tr>\n",
              "    <tr>\n",
              "      <th>94</th>\n",
              "      <td>If cannabis is dangerous, why are we legalizin...</td>\n",
              "      <td>Cannabis smoke, for example, contains cancer-c...</td>\n",
              "    </tr>\n",
              "    <tr>\n",
              "      <th>95</th>\n",
              "      <td>How can I convince my kids not to use drugs?</td>\n",
              "      <td>You can't. But you can influence their capacit...</td>\n",
              "    </tr>\n",
              "    <tr>\n",
              "      <th>96</th>\n",
              "      <td>What is the legal status (and evidence) of CBD...</td>\n",
              "      <td>Cannabidiol or CBD is a naturally occurring co...</td>\n",
              "    </tr>\n",
              "    <tr>\n",
              "      <th>97</th>\n",
              "      <td>What is the evidence on vaping?</td>\n",
              "      <td>\"Vaping\" is the term for using a device where ...</td>\n",
              "    </tr>\n",
              "  </tbody>\n",
              "</table>\n",
              "<p>98 rows × 2 columns</p>\n",
              "</div>\n",
              "    <div class=\"colab-df-buttons\">\n",
              "\n",
              "  <div class=\"colab-df-container\">\n",
              "    <button class=\"colab-df-convert\" onclick=\"convertToInteractive('df-e4909ce2-bf6f-4839-8059-589694d5ccd9')\"\n",
              "            title=\"Convert this dataframe to an interactive table.\"\n",
              "            style=\"display:none;\">\n",
              "\n",
              "  <svg xmlns=\"http://www.w3.org/2000/svg\" height=\"24px\" viewBox=\"0 -960 960 960\">\n",
              "    <path d=\"M120-120v-720h720v720H120Zm60-500h600v-160H180v160Zm220 220h160v-160H400v160Zm0 220h160v-160H400v160ZM180-400h160v-160H180v160Zm440 0h160v-160H620v160ZM180-180h160v-160H180v160Zm440 0h160v-160H620v160Z\"/>\n",
              "  </svg>\n",
              "    </button>\n",
              "\n",
              "  <style>\n",
              "    .colab-df-container {\n",
              "      display:flex;\n",
              "      gap: 12px;\n",
              "    }\n",
              "\n",
              "    .colab-df-convert {\n",
              "      background-color: #E8F0FE;\n",
              "      border: none;\n",
              "      border-radius: 50%;\n",
              "      cursor: pointer;\n",
              "      display: none;\n",
              "      fill: #1967D2;\n",
              "      height: 32px;\n",
              "      padding: 0 0 0 0;\n",
              "      width: 32px;\n",
              "    }\n",
              "\n",
              "    .colab-df-convert:hover {\n",
              "      background-color: #E2EBFA;\n",
              "      box-shadow: 0px 1px 2px rgba(60, 64, 67, 0.3), 0px 1px 3px 1px rgba(60, 64, 67, 0.15);\n",
              "      fill: #174EA6;\n",
              "    }\n",
              "\n",
              "    .colab-df-buttons div {\n",
              "      margin-bottom: 4px;\n",
              "    }\n",
              "\n",
              "    [theme=dark] .colab-df-convert {\n",
              "      background-color: #3B4455;\n",
              "      fill: #D2E3FC;\n",
              "    }\n",
              "\n",
              "    [theme=dark] .colab-df-convert:hover {\n",
              "      background-color: #434B5C;\n",
              "      box-shadow: 0px 1px 3px 1px rgba(0, 0, 0, 0.15);\n",
              "      filter: drop-shadow(0px 1px 2px rgba(0, 0, 0, 0.3));\n",
              "      fill: #FFFFFF;\n",
              "    }\n",
              "  </style>\n",
              "\n",
              "    <script>\n",
              "      const buttonEl =\n",
              "        document.querySelector('#df-e4909ce2-bf6f-4839-8059-589694d5ccd9 button.colab-df-convert');\n",
              "      buttonEl.style.display =\n",
              "        google.colab.kernel.accessAllowed ? 'block' : 'none';\n",
              "\n",
              "      async function convertToInteractive(key) {\n",
              "        const element = document.querySelector('#df-e4909ce2-bf6f-4839-8059-589694d5ccd9');\n",
              "        const dataTable =\n",
              "          await google.colab.kernel.invokeFunction('convertToInteractive',\n",
              "                                                    [key], {});\n",
              "        if (!dataTable) return;\n",
              "\n",
              "        const docLinkHtml = 'Like what you see? Visit the ' +\n",
              "          '<a target=\"_blank\" href=https://colab.research.google.com/notebooks/data_table.ipynb>data table notebook</a>'\n",
              "          + ' to learn more about interactive tables.';\n",
              "        element.innerHTML = '';\n",
              "        dataTable['output_type'] = 'display_data';\n",
              "        await google.colab.output.renderOutput(dataTable, element);\n",
              "        const docLink = document.createElement('div');\n",
              "        docLink.innerHTML = docLinkHtml;\n",
              "        element.appendChild(docLink);\n",
              "      }\n",
              "    </script>\n",
              "  </div>\n",
              "\n",
              "\n",
              "    <div id=\"df-3d745165-f090-4bff-ab61-ff450aa1e8a0\">\n",
              "      <button class=\"colab-df-quickchart\" onclick=\"quickchart('df-3d745165-f090-4bff-ab61-ff450aa1e8a0')\"\n",
              "                title=\"Suggest charts\"\n",
              "                style=\"display:none;\">\n",
              "\n",
              "<svg xmlns=\"http://www.w3.org/2000/svg\" height=\"24px\"viewBox=\"0 0 24 24\"\n",
              "     width=\"24px\">\n",
              "    <g>\n",
              "        <path d=\"M19 3H5c-1.1 0-2 .9-2 2v14c0 1.1.9 2 2 2h14c1.1 0 2-.9 2-2V5c0-1.1-.9-2-2-2zM9 17H7v-7h2v7zm4 0h-2V7h2v10zm4 0h-2v-4h2v4z\"/>\n",
              "    </g>\n",
              "</svg>\n",
              "      </button>\n",
              "\n",
              "<style>\n",
              "  .colab-df-quickchart {\n",
              "      --bg-color: #E8F0FE;\n",
              "      --fill-color: #1967D2;\n",
              "      --hover-bg-color: #E2EBFA;\n",
              "      --hover-fill-color: #174EA6;\n",
              "      --disabled-fill-color: #AAA;\n",
              "      --disabled-bg-color: #DDD;\n",
              "  }\n",
              "\n",
              "  [theme=dark] .colab-df-quickchart {\n",
              "      --bg-color: #3B4455;\n",
              "      --fill-color: #D2E3FC;\n",
              "      --hover-bg-color: #434B5C;\n",
              "      --hover-fill-color: #FFFFFF;\n",
              "      --disabled-bg-color: #3B4455;\n",
              "      --disabled-fill-color: #666;\n",
              "  }\n",
              "\n",
              "  .colab-df-quickchart {\n",
              "    background-color: var(--bg-color);\n",
              "    border: none;\n",
              "    border-radius: 50%;\n",
              "    cursor: pointer;\n",
              "    display: none;\n",
              "    fill: var(--fill-color);\n",
              "    height: 32px;\n",
              "    padding: 0;\n",
              "    width: 32px;\n",
              "  }\n",
              "\n",
              "  .colab-df-quickchart:hover {\n",
              "    background-color: var(--hover-bg-color);\n",
              "    box-shadow: 0 1px 2px rgba(60, 64, 67, 0.3), 0 1px 3px 1px rgba(60, 64, 67, 0.15);\n",
              "    fill: var(--button-hover-fill-color);\n",
              "  }\n",
              "\n",
              "  .colab-df-quickchart-complete:disabled,\n",
              "  .colab-df-quickchart-complete:disabled:hover {\n",
              "    background-color: var(--disabled-bg-color);\n",
              "    fill: var(--disabled-fill-color);\n",
              "    box-shadow: none;\n",
              "  }\n",
              "\n",
              "  .colab-df-spinner {\n",
              "    border: 2px solid var(--fill-color);\n",
              "    border-color: transparent;\n",
              "    border-bottom-color: var(--fill-color);\n",
              "    animation:\n",
              "      spin 1s steps(1) infinite;\n",
              "  }\n",
              "\n",
              "  @keyframes spin {\n",
              "    0% {\n",
              "      border-color: transparent;\n",
              "      border-bottom-color: var(--fill-color);\n",
              "      border-left-color: var(--fill-color);\n",
              "    }\n",
              "    20% {\n",
              "      border-color: transparent;\n",
              "      border-left-color: var(--fill-color);\n",
              "      border-top-color: var(--fill-color);\n",
              "    }\n",
              "    30% {\n",
              "      border-color: transparent;\n",
              "      border-left-color: var(--fill-color);\n",
              "      border-top-color: var(--fill-color);\n",
              "      border-right-color: var(--fill-color);\n",
              "    }\n",
              "    40% {\n",
              "      border-color: transparent;\n",
              "      border-right-color: var(--fill-color);\n",
              "      border-top-color: var(--fill-color);\n",
              "    }\n",
              "    60% {\n",
              "      border-color: transparent;\n",
              "      border-right-color: var(--fill-color);\n",
              "    }\n",
              "    80% {\n",
              "      border-color: transparent;\n",
              "      border-right-color: var(--fill-color);\n",
              "      border-bottom-color: var(--fill-color);\n",
              "    }\n",
              "    90% {\n",
              "      border-color: transparent;\n",
              "      border-bottom-color: var(--fill-color);\n",
              "    }\n",
              "  }\n",
              "</style>\n",
              "\n",
              "      <script>\n",
              "        async function quickchart(key) {\n",
              "          const quickchartButtonEl =\n",
              "            document.querySelector('#' + key + ' button');\n",
              "          quickchartButtonEl.disabled = true;  // To prevent multiple clicks.\n",
              "          quickchartButtonEl.classList.add('colab-df-spinner');\n",
              "          try {\n",
              "            const charts = await google.colab.kernel.invokeFunction(\n",
              "                'suggestCharts', [key], {});\n",
              "          } catch (error) {\n",
              "            console.error('Error during call to suggestCharts:', error);\n",
              "          }\n",
              "          quickchartButtonEl.classList.remove('colab-df-spinner');\n",
              "          quickchartButtonEl.classList.add('colab-df-quickchart-complete');\n",
              "        }\n",
              "        (() => {\n",
              "          let quickchartButtonEl =\n",
              "            document.querySelector('#df-3d745165-f090-4bff-ab61-ff450aa1e8a0 button');\n",
              "          quickchartButtonEl.style.display =\n",
              "            google.colab.kernel.accessAllowed ? 'block' : 'none';\n",
              "        })();\n",
              "      </script>\n",
              "    </div>\n",
              "\n",
              "  <div id=\"id_0d9c693e-9e1d-47de-ac55-8082649272a6\">\n",
              "    <style>\n",
              "      .colab-df-generate {\n",
              "        background-color: #E8F0FE;\n",
              "        border: none;\n",
              "        border-radius: 50%;\n",
              "        cursor: pointer;\n",
              "        display: none;\n",
              "        fill: #1967D2;\n",
              "        height: 32px;\n",
              "        padding: 0 0 0 0;\n",
              "        width: 32px;\n",
              "      }\n",
              "\n",
              "      .colab-df-generate:hover {\n",
              "        background-color: #E2EBFA;\n",
              "        box-shadow: 0px 1px 2px rgba(60, 64, 67, 0.3), 0px 1px 3px 1px rgba(60, 64, 67, 0.15);\n",
              "        fill: #174EA6;\n",
              "      }\n",
              "\n",
              "      [theme=dark] .colab-df-generate {\n",
              "        background-color: #3B4455;\n",
              "        fill: #D2E3FC;\n",
              "      }\n",
              "\n",
              "      [theme=dark] .colab-df-generate:hover {\n",
              "        background-color: #434B5C;\n",
              "        box-shadow: 0px 1px 3px 1px rgba(0, 0, 0, 0.15);\n",
              "        filter: drop-shadow(0px 1px 2px rgba(0, 0, 0, 0.3));\n",
              "        fill: #FFFFFF;\n",
              "      }\n",
              "    </style>\n",
              "    <button class=\"colab-df-generate\" onclick=\"generateWithVariable('df')\"\n",
              "            title=\"Generate code using this dataframe.\"\n",
              "            style=\"display:none;\">\n",
              "\n",
              "  <svg xmlns=\"http://www.w3.org/2000/svg\" height=\"24px\"viewBox=\"0 0 24 24\"\n",
              "       width=\"24px\">\n",
              "    <path d=\"M7,19H8.4L18.45,9,17,7.55,7,17.6ZM5,21V16.75L18.45,3.32a2,2,0,0,1,2.83,0l1.4,1.43a1.91,1.91,0,0,1,.58,1.4,1.91,1.91,0,0,1-.58,1.4L9.25,21ZM18.45,9,17,7.55Zm-12,3A5.31,5.31,0,0,0,4.9,8.1,5.31,5.31,0,0,0,1,6.5,5.31,5.31,0,0,0,4.9,4.9,5.31,5.31,0,0,0,6.5,1,5.31,5.31,0,0,0,8.1,4.9,5.31,5.31,0,0,0,12,6.5,5.46,5.46,0,0,0,6.5,12Z\"/>\n",
              "  </svg>\n",
              "    </button>\n",
              "    <script>\n",
              "      (() => {\n",
              "      const buttonEl =\n",
              "        document.querySelector('#id_0d9c693e-9e1d-47de-ac55-8082649272a6 button.colab-df-generate');\n",
              "      buttonEl.style.display =\n",
              "        google.colab.kernel.accessAllowed ? 'block' : 'none';\n",
              "\n",
              "      buttonEl.onclick = () => {\n",
              "        google.colab.notebook.generateWithVariable('df');\n",
              "      }\n",
              "      })();\n",
              "    </script>\n",
              "  </div>\n",
              "\n",
              "    </div>\n",
              "  </div>\n"
            ],
            "application/vnd.google.colaboratory.intrinsic+json": {
              "type": "dataframe",
              "variable_name": "df",
              "summary": "{\n  \"name\": \"df\",\n  \"rows\": 98,\n  \"fields\": [\n    {\n      \"column\": \"Questions\",\n      \"properties\": {\n        \"dtype\": \"string\",\n        \"num_unique_values\": 98,\n        \"samples\": [\n          \"What's the difference between antidepressants?\",\n          \"How can I challenge thinking traps?\",\n          \"If cannabis is dangerous, why are we legalizing it?\"\n        ],\n        \"semantic_type\": \"\",\n        \"description\": \"\"\n      }\n    },\n    {\n      \"column\": \"Answers\",\n      \"properties\": {\n        \"dtype\": \"string\",\n        \"num_unique_values\": 98,\n        \"samples\": [\n          \"There are many different types of antidepressant medications, and they each work in different ways. Antidepressants are divided into \\u201cclasses\\u201d based on what they do and which chemical messengers in the brain (called neurotransmitters) they are thought to influence. Each class may contain several different medications, which each have slightly different ways of working. Below, you\\u2019ll find common classes and examples of common medications. The first name is the generic name and name in brackets is the brand name. \\n SSRIs or selective serotonin reuptake inhibitors: fluoxetine (Prozac), paroxetine (Paxil), citalopram (Celexa), escitalopram (Cipralex), and sertraline (Zoloft) \\n SNRIs or serotonin and norepinephrine reuptake inhibitors: venlafaxine (Effexor) and duloxetine (Cymbalta) \\n NDRIs or norepinephrine-dopamine reuptake inhibitors: bupropion (Wellbutrin and Zyban) \\n NaSSAs or noradrenergic and specific serotonergic antidepressants: mirtazapine (Remeron), which can also be classed as a TeCa or tetracyclic antidepressant \\n SARIs or serotonin antagonist and reuptake inhibitors: trazodone (Desyrel) \\n There are other classes of antidepressants (such as MAOIs or triclycics) that are much older and have more side effects or restrictions. They are usually prescribed when newer antidepressants don\\u2019t work. Other medications such as lithium, thyroid medication, or antipsychotics may also be prescribed, often in combination with an antidepressant to boost its effect. Antidepressants are not only used to treat depression\\u2014they may be prescribed to treat other illnesses like anxiety disorders. \\n Only medical doctors like family doctors or psychiatrists can prescribe antidepressants. If your doctor recommends that you consider antidepressants, keep in mind that most people have to try a few different options before they find the right medication. It can be a frustrating process, especially when you feel unwell, but it\\u2019s important to find something that works for you! Side effects and benefits can vary significantly between different people, and it\\u2019s difficult to predict how a medication might work without trying it out first. Everyone responds to them differently. It\\u2019s very important to have ongoing discussions with your health care team regarding your medication so you can bring up any problems or concerns\\u2014or even ask more about how your particular antidepressant works.\",\n          \"What you tell yourself about a situation affects how you feel and what you do. Sometimes your interpretation of a situation can get distorted and you only focus on the negative aspects\\u2014this is normal and expected. However, when you interpret situations too negatively, you might feel worse. You're also more likely to respond to the situation in ways that are unhelpful in the long term. \\n These automatic thoughts and assumptions are sometimes called thinking traps. Everyone falls into unbalanced thinking traps from time to time. You're most likely to distort your interpretation of things when you already feel sad, angry, anxious, depressed or stressed. You're also more vulnerable to thinking traps when you're not taking good care of yourself, like when you're not eating or sleeping well. \\n Here are some common thinking traps: \\n Thinking that a negative situation is part of a constant cycle of bad things that happen. People who overgeneralize often use words like \\\"always\\\" or \\\"never.\\\" \\n I was really looking forward to that concert, and now it\\u2019s cancelled. This always happens to me! I never get to do fun things! \\n Seeing things as only right or wrong, good or bad, perfect or terrible. People who think in black and white terms see a small mistake as a total failure. \\n I wanted to eat healthier, but I ate too many snacks today. This plan is a total failure! \\n Saying only negative things about yourself or other people. \\n I made a mistake. I'm stupid! My boss told me that I made a mistake. My boss is a total jerk! \\n Predicting that something bad will happen without any evidence. \\n I've been doing what I can to stay home and reduce the risks, but I just know that I'm going to get sick. \\n Focusing only on the negative parts of a situation and ignoring anything good or positive. \\n I know there's a lot I can do at home, but I'm just so sick of this. Everything is terrible. \\n Believing that bad feelings or emotions reflect the situation. \\n I feel scared and overwhelmed right now, so that must mean everything is very bad and will never get better. \\n Telling yourself how you \\\"should\\\" or \\\"must\\\" act. \\n I should be able to handle this without getting upset and crying! \\n Here are helpful strategies to challenge common thinking traps. Many people find their mood and confidence improve after working through these skills. You can also find worksheets to help you go through each step at www.heretohelp.bc.ca. \\n Don't try to get out of a thinking trap by just telling yourself to stop thinking that way. \\n This doesn't let you look at the evidence and challenge the thinking trap. When you try and push upsetting thoughts away, they are more likely to keep popping back into your mind. \\n Ask yourself the following questions when something upsetting happens: \\n What is the situation? What actually happened? Only include facts that everyone would agree on. \\n What are your thoughts? What are you telling yourself? \\n What are your emotions? How do you feel? \\n What are your behaviours? How are you reacting? What are you doing to cope? \\n Take a look at the thoughts you've listed. Are you using any of the thinking traps and falling into distorted thinking patterns? It's common to fall into more than one thinking trap. Go back to the thinking trap list and identify which ones apply to you and your current situation. \\n The best way to break a thinking trap is to look at your thoughts like a scientist and consider the hard facts. Use the evidence you've collected to challenge your thinking traps. Here are some ways to do that: \\n Try to find evidence against the thought. If you make a mistake at work, you might automatically think, \\\"I can't do anything right! I must be a terrible employee!\\\" When this thought comes up, you might challenge it by asking, \\\"Is there any evidence to support this thought? Is there any evidence to disprove this thought?\\\" You might quickly realize that your boss has complimented your work recently, which doesn't support the idea that you're a bad employee. \\n Ask yourself, \\\"Would I judge other people if they did the same thing? Am I being harder on myself than I am on other people?\\\" This is a great method for challenging thinking traps that involve harsh self-criticism. \\n Find out whether other people you trust agree with your thoughts. For example, you might have trouble with one of your kids and think, \\\"Good parents wouldn't have this kind of problem.\\\" To challenge this thought, you can ask other parents if they've ever had any problems with their kids. \\n Test your beliefs in person. For example, if you think that your friends don't care about you, call a few friends and make plans to start a regular video call. If you assumed that they will all say no, you may be pleasantly surprised to hear that they do want to see you. \\n Once you have worked through some challenges, try to think of a more balanced thought to replace the old thinking traps. Let's use the following example: \\n I feel sad and overwhelmed. I'm having a hard time figuring out what to do. \\n I'm the worst! I should be able to handle this! \\n Labeling \\n 'Should' statements \\n Examine the evidence: I have a lot of challenges right now. I'm worried about my family and everything seems to change so quickly. I've successfully handled complicated situations in the past, so I know I can do this. \\n It's okay to feel upset right now\\u2014there's a lot going on. I'm going to think about how I got through past situations and see what worked for me. I'm trying to do a lot on my own, so I'm going to talk to my family so we can make a plan and work together. \\n Try the Healthy Thinking Worksheet at www.heretohelp.bc.ca \\n Check out Anxiety Canada's articles Helpful Thinking and Thinking Traps \\n This page is adapted from Wellness Module 8: Healthy Thinking at www.heretohelp.bc.ca/wellness-module/wellness-module-8-healthy-thinking.\",\n          \"Cannabis smoke, for example, contains cancer-causing toxins. However, the risk of developing some cancers (e.g., mouth, tongue and lung) is less for cannabis smokers than tobacco smokers, partly because they tend to smoke less than tobacco users. And, while all drugs have an effect on the brain, the particular properties of the drug influence the level of risk of harmful consequences. The negative effects of cannabis on the brain, for example, seem to be less than the effects of some substances such as alcohol. \\n Legalizing cannabis provides an opportunity to put in place regulations to minimize potential harms. The danger of buying and using any illegal drug is that we can never know for sure what exactly is in it. Cannabis is legal in Canada as of October 17, 2018. Adults (over age 19 in BC) are now permitted to possess up to 30 grams of cannabis in public. Cannabis is regulated by the Province of British Columbia and will be sold through the Liquor Distribution Branch. Cannabis will be tested for quality. \\n When drugs are produced and obtained inside a regulated system, it is possible for us to know about the contents and dosage of what we are taking. This helps us manage the risks. However, it is likely that cannabis will still be available outside the government system. It is important to know that the quality of cannabis obtained from a dealer or a friend is unknown and may contain contaminants like mold, mildew, or fillers that may be toxic. \\n The legalization of cannabis also provides us with openings to engage in honest and thoughtful discussions about drug use with our families and communities. When dealing with complex issues, like cannabis policy, no one has all the answers. But as community members, we all have thoughts, feelings and experiences around drugs and drug use to share with each other. Engaging together to explore and share ideas will help us discover how to manage use, as individuals and communities, in ways that maximize benefit and minimize harm. \\n The Canadian Institute for Substance Use Research, formerly CARBC, is a member of the BC Partners for Mental Health and Addictions Information. The institute is dedicated to the study of substance use in support of community-wide efforts aimed at providing all people with access to healthier lives, whether using substances or not. For more, visit www.cisur.ca.\"\n        ],\n        \"semantic_type\": \"\",\n        \"description\": \"\"\n      }\n    }\n  ]\n}"
            }
          },
          "metadata": {},
          "execution_count": 24
        }
      ],
      "source": [
        "# drop [ID\n",
        "df.drop(columns = [\"Question_ID\"] , axis =1, inplace=True)\n",
        "df"
      ]
    },
    {
      "cell_type": "code",
      "execution_count": 25,
      "id": "fe00165a",
      "metadata": {
        "execution": {
          "iopub.execute_input": "2025-09-20T13:51:23.949364Z",
          "iopub.status.busy": "2025-09-20T13:51:23.949056Z",
          "iopub.status.idle": "2025-09-20T13:51:23.954199Z",
          "shell.execute_reply": "2025-09-20T13:51:23.953355Z"
        },
        "papermill": {
          "duration": 0.012265,
          "end_time": "2025-09-20T13:51:23.955584",
          "exception": false,
          "start_time": "2025-09-20T13:51:23.943319",
          "status": "completed"
        },
        "tags": [],
        "colab": {
          "base_uri": "https://localhost:8080/"
        },
        "id": "fe00165a",
        "outputId": "6d4ebe13-24d0-4760-e2cf-872aca8e8522"
      },
      "outputs": [
        {
          "output_type": "execute_result",
          "data": {
            "text/plain": [
              "(98, 2)"
            ]
          },
          "metadata": {},
          "execution_count": 25
        }
      ],
      "source": [
        "df.shape"
      ]
    },
    {
      "cell_type": "code",
      "execution_count": 26,
      "id": "fd4017c8",
      "metadata": {
        "execution": {
          "iopub.execute_input": "2025-09-20T13:51:23.966672Z",
          "iopub.status.busy": "2025-09-20T13:51:23.966355Z",
          "iopub.status.idle": "2025-09-20T13:51:23.975191Z",
          "shell.execute_reply": "2025-09-20T13:51:23.974373Z"
        },
        "papermill": {
          "duration": 0.015947,
          "end_time": "2025-09-20T13:51:23.976558",
          "exception": false,
          "start_time": "2025-09-20T13:51:23.960611",
          "status": "completed"
        },
        "tags": [],
        "colab": {
          "base_uri": "https://localhost:8080/",
          "height": 53
        },
        "id": "fd4017c8",
        "outputId": "0759681b-6322-46ae-c26c-b15c64e3c281"
      },
      "outputs": [
        {
          "output_type": "execute_result",
          "data": {
            "text/plain": [
              "Empty DataFrame\n",
              "Columns: [Questions, Answers]\n",
              "Index: []"
            ],
            "text/html": [
              "\n",
              "  <div id=\"df-417d7460-5ea4-45ac-a3f8-80f9f8d1ea20\" class=\"colab-df-container\">\n",
              "    <div>\n",
              "<style scoped>\n",
              "    .dataframe tbody tr th:only-of-type {\n",
              "        vertical-align: middle;\n",
              "    }\n",
              "\n",
              "    .dataframe tbody tr th {\n",
              "        vertical-align: top;\n",
              "    }\n",
              "\n",
              "    .dataframe thead th {\n",
              "        text-align: right;\n",
              "    }\n",
              "</style>\n",
              "<table border=\"1\" class=\"dataframe\">\n",
              "  <thead>\n",
              "    <tr style=\"text-align: right;\">\n",
              "      <th></th>\n",
              "      <th>Questions</th>\n",
              "      <th>Answers</th>\n",
              "    </tr>\n",
              "  </thead>\n",
              "  <tbody>\n",
              "  </tbody>\n",
              "</table>\n",
              "</div>\n",
              "    <div class=\"colab-df-buttons\">\n",
              "\n",
              "  <div class=\"colab-df-container\">\n",
              "    <button class=\"colab-df-convert\" onclick=\"convertToInteractive('df-417d7460-5ea4-45ac-a3f8-80f9f8d1ea20')\"\n",
              "            title=\"Convert this dataframe to an interactive table.\"\n",
              "            style=\"display:none;\">\n",
              "\n",
              "  <svg xmlns=\"http://www.w3.org/2000/svg\" height=\"24px\" viewBox=\"0 -960 960 960\">\n",
              "    <path d=\"M120-120v-720h720v720H120Zm60-500h600v-160H180v160Zm220 220h160v-160H400v160Zm0 220h160v-160H400v160ZM180-400h160v-160H180v160Zm440 0h160v-160H620v160ZM180-180h160v-160H180v160Zm440 0h160v-160H620v160Z\"/>\n",
              "  </svg>\n",
              "    </button>\n",
              "\n",
              "  <style>\n",
              "    .colab-df-container {\n",
              "      display:flex;\n",
              "      gap: 12px;\n",
              "    }\n",
              "\n",
              "    .colab-df-convert {\n",
              "      background-color: #E8F0FE;\n",
              "      border: none;\n",
              "      border-radius: 50%;\n",
              "      cursor: pointer;\n",
              "      display: none;\n",
              "      fill: #1967D2;\n",
              "      height: 32px;\n",
              "      padding: 0 0 0 0;\n",
              "      width: 32px;\n",
              "    }\n",
              "\n",
              "    .colab-df-convert:hover {\n",
              "      background-color: #E2EBFA;\n",
              "      box-shadow: 0px 1px 2px rgba(60, 64, 67, 0.3), 0px 1px 3px 1px rgba(60, 64, 67, 0.15);\n",
              "      fill: #174EA6;\n",
              "    }\n",
              "\n",
              "    .colab-df-buttons div {\n",
              "      margin-bottom: 4px;\n",
              "    }\n",
              "\n",
              "    [theme=dark] .colab-df-convert {\n",
              "      background-color: #3B4455;\n",
              "      fill: #D2E3FC;\n",
              "    }\n",
              "\n",
              "    [theme=dark] .colab-df-convert:hover {\n",
              "      background-color: #434B5C;\n",
              "      box-shadow: 0px 1px 3px 1px rgba(0, 0, 0, 0.15);\n",
              "      filter: drop-shadow(0px 1px 2px rgba(0, 0, 0, 0.3));\n",
              "      fill: #FFFFFF;\n",
              "    }\n",
              "  </style>\n",
              "\n",
              "    <script>\n",
              "      const buttonEl =\n",
              "        document.querySelector('#df-417d7460-5ea4-45ac-a3f8-80f9f8d1ea20 button.colab-df-convert');\n",
              "      buttonEl.style.display =\n",
              "        google.colab.kernel.accessAllowed ? 'block' : 'none';\n",
              "\n",
              "      async function convertToInteractive(key) {\n",
              "        const element = document.querySelector('#df-417d7460-5ea4-45ac-a3f8-80f9f8d1ea20');\n",
              "        const dataTable =\n",
              "          await google.colab.kernel.invokeFunction('convertToInteractive',\n",
              "                                                    [key], {});\n",
              "        if (!dataTable) return;\n",
              "\n",
              "        const docLinkHtml = 'Like what you see? Visit the ' +\n",
              "          '<a target=\"_blank\" href=https://colab.research.google.com/notebooks/data_table.ipynb>data table notebook</a>'\n",
              "          + ' to learn more about interactive tables.';\n",
              "        element.innerHTML = '';\n",
              "        dataTable['output_type'] = 'display_data';\n",
              "        await google.colab.output.renderOutput(dataTable, element);\n",
              "        const docLink = document.createElement('div');\n",
              "        docLink.innerHTML = docLinkHtml;\n",
              "        element.appendChild(docLink);\n",
              "      }\n",
              "    </script>\n",
              "  </div>\n",
              "\n",
              "\n",
              "    </div>\n",
              "  </div>\n"
            ],
            "application/vnd.google.colaboratory.intrinsic+json": {
              "type": "dataframe",
              "repr_error": "Out of range float values are not JSON compliant: nan"
            }
          },
          "metadata": {},
          "execution_count": 26
        }
      ],
      "source": [
        "# check duplictaes\n",
        "df[df.duplicated()]"
      ]
    },
    {
      "cell_type": "code",
      "execution_count": 27,
      "id": "cbf750ab",
      "metadata": {
        "execution": {
          "iopub.execute_input": "2025-09-20T13:51:23.989072Z",
          "iopub.status.busy": "2025-09-20T13:51:23.988280Z",
          "iopub.status.idle": "2025-09-20T13:51:23.995073Z",
          "shell.execute_reply": "2025-09-20T13:51:23.994246Z"
        },
        "papermill": {
          "duration": 0.014394,
          "end_time": "2025-09-20T13:51:23.996423",
          "exception": false,
          "start_time": "2025-09-20T13:51:23.982029",
          "status": "completed"
        },
        "tags": [],
        "id": "cbf750ab"
      },
      "outputs": [],
      "source": [
        "#  apply the answer to its question  ( GPT expect this format ->  Q: .....\\nA:.......)\n",
        "\n",
        "df[\"text\"] = df.apply(lambda row: f\"Q: {row['Questions']}\\nA: {row['Answers']}\", axis=1)"
      ]
    },
    {
      "cell_type": "code",
      "execution_count": 28,
      "id": "6c75e9e5",
      "metadata": {
        "execution": {
          "iopub.execute_input": "2025-09-20T13:51:24.007975Z",
          "iopub.status.busy": "2025-09-20T13:51:24.007164Z",
          "iopub.status.idle": "2025-09-20T13:51:24.014538Z",
          "shell.execute_reply": "2025-09-20T13:51:24.013713Z"
        },
        "papermill": {
          "duration": 0.014303,
          "end_time": "2025-09-20T13:51:24.015757",
          "exception": false,
          "start_time": "2025-09-20T13:51:24.001454",
          "status": "completed"
        },
        "tags": [],
        "colab": {
          "base_uri": "https://localhost:8080/",
          "height": 458
        },
        "id": "6c75e9e5",
        "outputId": "b0ca26a7-6e61-483a-fa03-c14e7047998d"
      },
      "outputs": [
        {
          "output_type": "execute_result",
          "data": {
            "text/plain": [
              "0     Q: What does it mean to have a mental illness?...\n",
              "1     Q: Who does mental illness affect?\\nA: It is e...\n",
              "2     Q: What causes mental illness?\\nA: It is estim...\n",
              "3     Q: What are some of the warning signs of menta...\n",
              "4     Q: Can people with mental illness recover?\\nA:...\n",
              "                            ...                        \n",
              "93    Q: How do I know if I'm drinking too much?\\nA:...\n",
              "94    Q: If cannabis is dangerous, why are we legali...\n",
              "95    Q: How can I convince my kids not to use drugs...\n",
              "96    Q: What is the legal status (and evidence) of ...\n",
              "97    Q: What is the evidence on vaping?\\nA: \"Vaping...\n",
              "Name: text, Length: 98, dtype: object"
            ],
            "text/html": [
              "<div>\n",
              "<style scoped>\n",
              "    .dataframe tbody tr th:only-of-type {\n",
              "        vertical-align: middle;\n",
              "    }\n",
              "\n",
              "    .dataframe tbody tr th {\n",
              "        vertical-align: top;\n",
              "    }\n",
              "\n",
              "    .dataframe thead th {\n",
              "        text-align: right;\n",
              "    }\n",
              "</style>\n",
              "<table border=\"1\" class=\"dataframe\">\n",
              "  <thead>\n",
              "    <tr style=\"text-align: right;\">\n",
              "      <th></th>\n",
              "      <th>text</th>\n",
              "    </tr>\n",
              "  </thead>\n",
              "  <tbody>\n",
              "    <tr>\n",
              "      <th>0</th>\n",
              "      <td>Q: What does it mean to have a mental illness?...</td>\n",
              "    </tr>\n",
              "    <tr>\n",
              "      <th>1</th>\n",
              "      <td>Q: Who does mental illness affect?\\nA: It is e...</td>\n",
              "    </tr>\n",
              "    <tr>\n",
              "      <th>2</th>\n",
              "      <td>Q: What causes mental illness?\\nA: It is estim...</td>\n",
              "    </tr>\n",
              "    <tr>\n",
              "      <th>3</th>\n",
              "      <td>Q: What are some of the warning signs of menta...</td>\n",
              "    </tr>\n",
              "    <tr>\n",
              "      <th>4</th>\n",
              "      <td>Q: Can people with mental illness recover?\\nA:...</td>\n",
              "    </tr>\n",
              "    <tr>\n",
              "      <th>...</th>\n",
              "      <td>...</td>\n",
              "    </tr>\n",
              "    <tr>\n",
              "      <th>93</th>\n",
              "      <td>Q: How do I know if I'm drinking too much?\\nA:...</td>\n",
              "    </tr>\n",
              "    <tr>\n",
              "      <th>94</th>\n",
              "      <td>Q: If cannabis is dangerous, why are we legali...</td>\n",
              "    </tr>\n",
              "    <tr>\n",
              "      <th>95</th>\n",
              "      <td>Q: How can I convince my kids not to use drugs...</td>\n",
              "    </tr>\n",
              "    <tr>\n",
              "      <th>96</th>\n",
              "      <td>Q: What is the legal status (and evidence) of ...</td>\n",
              "    </tr>\n",
              "    <tr>\n",
              "      <th>97</th>\n",
              "      <td>Q: What is the evidence on vaping?\\nA: \"Vaping...</td>\n",
              "    </tr>\n",
              "  </tbody>\n",
              "</table>\n",
              "<p>98 rows × 1 columns</p>\n",
              "</div><br><label><b>dtype:</b> object</label>"
            ]
          },
          "metadata": {},
          "execution_count": 28
        }
      ],
      "source": [
        "df[\"text\"]"
      ]
    },
    {
      "cell_type": "code",
      "source": [
        "df.to_csv(r\"/content/processed_Mental_Health_FAQ.csv\")"
      ],
      "metadata": {
        "id": "4LahQFowk5nn"
      },
      "id": "4LahQFowk5nn",
      "execution_count": 87,
      "outputs": []
    },
    {
      "cell_type": "code",
      "execution_count": 29,
      "id": "44001b25",
      "metadata": {
        "execution": {
          "iopub.execute_input": "2025-09-20T13:51:24.027445Z",
          "iopub.status.busy": "2025-09-20T13:51:24.027137Z",
          "iopub.status.idle": "2025-09-20T13:51:31.166950Z",
          "shell.execute_reply": "2025-09-20T13:51:31.166101Z"
        },
        "papermill": {
          "duration": 7.147585,
          "end_time": "2025-09-20T13:51:31.168546",
          "exception": false,
          "start_time": "2025-09-20T13:51:24.020961",
          "status": "completed"
        },
        "tags": [],
        "colab": {
          "base_uri": "https://localhost:8080/"
        },
        "id": "44001b25",
        "outputId": "26828411-f060-4847-89d2-fb263833dfa6"
      },
      "outputs": [
        {
          "output_type": "stream",
          "name": "stderr",
          "text": [
            "The new embeddings will be initialized from a multivariate normal distribution that has old embeddings' mean and covariance. As described in this article: https://nlp.stanford.edu/~johnhew/vocab-expansion.html. To disable this, use `mean_resizing=False`\n"
          ]
        }
      ],
      "source": [
        "tokenizer = GPT2Tokenizer.from_pretrained(\"gpt2\")\n",
        "model = GPT2LMHeadModel.from_pretrained(\"gpt2\")\n",
        "\n",
        "\n",
        "# GPT-2 tokenizer doesn't have a dedicated padding token, which is needed for batch processing.\n",
        "tokenizer.add_special_tokens({\"pad_token\": \"[PAD]\"})\n",
        "\n",
        "# Resize the model's embedding layer to include the new token's vector.\n",
        "model.resize_token_embeddings(len(tokenizer))\n",
        "\n",
        "# Inform the model's configuration of the padding token's ID.\n",
        "model.config.pad_token_id = tokenizer.pad_token_id"
      ]
    },
    {
      "cell_type": "code",
      "execution_count": 30,
      "id": "fb9620bd",
      "metadata": {
        "execution": {
          "iopub.execute_input": "2025-09-20T13:51:31.184666Z",
          "iopub.status.busy": "2025-09-20T13:51:31.184381Z",
          "iopub.status.idle": "2025-09-20T13:51:31.199172Z",
          "shell.execute_reply": "2025-09-20T13:51:31.198303Z"
        },
        "papermill": {
          "duration": 0.024156,
          "end_time": "2025-09-20T13:51:31.200726",
          "exception": false,
          "start_time": "2025-09-20T13:51:31.176570",
          "status": "completed"
        },
        "tags": [],
        "colab": {
          "base_uri": "https://localhost:8080/"
        },
        "id": "fb9620bd",
        "outputId": "386c8905-60d8-458f-ce3a-c0512a3a25b8"
      },
      "outputs": [
        {
          "output_type": "execute_result",
          "data": {
            "text/plain": [
              "Dataset({\n",
              "    features: ['text'],\n",
              "    num_rows: 98\n",
              "})"
            ]
          },
          "metadata": {},
          "execution_count": 30
        }
      ],
      "source": [
        "# convert Datafram to Dataset type (since pre-trained models like GPT expect Dataset Formate)\n",
        "\n",
        "dataset = Dataset.from_pandas(df[[\"text\"]])\n",
        "dataset"
      ]
    },
    {
      "cell_type": "code",
      "execution_count": 31,
      "id": "fea2e9b6",
      "metadata": {
        "execution": {
          "iopub.execute_input": "2025-09-20T13:51:31.234045Z",
          "iopub.status.busy": "2025-09-20T13:51:31.233344Z",
          "iopub.status.idle": "2025-09-20T13:51:32.622326Z",
          "shell.execute_reply": "2025-09-20T13:51:32.621603Z"
        },
        "papermill": {
          "duration": 1.397259,
          "end_time": "2025-09-20T13:51:32.623703",
          "exception": false,
          "start_time": "2025-09-20T13:51:31.226444",
          "status": "completed"
        },
        "tags": [],
        "colab": {
          "base_uri": "https://localhost:8080/",
          "height": 49,
          "referenced_widgets": [
            "09b4bf5603a14aad969b50331ac1d629",
            "8d10f2fa4faa4495a4aaac7dd94b814b",
            "0f004289b40a4239ad161c8727b9f18a",
            "c3e32d13de3d4daea5fa42c7cacdb454",
            "2cc4177d37544691b12498d788aafe6d",
            "0ea0f07249a14a78a6f104ac0329750b",
            "6cc8efe5079648e6bb8a90a9c0dd9a17",
            "17fb2fc3141846b59014b0ee3660030c",
            "10297e07b5c344a59c1da1a7c3e702d9",
            "46d24273692e49b0ba88978c2b1dd95b",
            "e063d474729945dea5dcad4330593b3f"
          ]
        },
        "id": "fea2e9b6",
        "outputId": "c445f689-c073-4b34-9586-538302eb0933"
      },
      "outputs": [
        {
          "output_type": "display_data",
          "data": {
            "text/plain": [
              "Map:   0%|          | 0/98 [00:00<?, ? examples/s]"
            ],
            "application/vnd.jupyter.widget-view+json": {
              "version_major": 2,
              "version_minor": 0,
              "model_id": "09b4bf5603a14aad969b50331ac1d629"
            }
          },
          "metadata": {}
        }
      ],
      "source": [
        "# define Tokenization Function to get input_ids & attention mask\n",
        "\n",
        "\n",
        "def tokenize_function(examples):\n",
        "    return tokenizer(examples[\"text\"],padding=\"max_length\",\n",
        "                             truncation=True,max_length=128  )\n",
        "\n",
        "tokenized_dataset = dataset.map(tokenize_function, batched=True)\n",
        "\n"
      ]
    },
    {
      "cell_type": "code",
      "execution_count": 32,
      "id": "7e6ed4a4",
      "metadata": {
        "execution": {
          "iopub.execute_input": "2025-09-20T13:51:32.637685Z",
          "iopub.status.busy": "2025-09-20T13:51:32.637036Z",
          "iopub.status.idle": "2025-09-20T13:51:32.642269Z",
          "shell.execute_reply": "2025-09-20T13:51:32.641432Z"
        },
        "papermill": {
          "duration": 0.013682,
          "end_time": "2025-09-20T13:51:32.643697",
          "exception": false,
          "start_time": "2025-09-20T13:51:32.630015",
          "status": "completed"
        },
        "tags": [],
        "colab": {
          "base_uri": "https://localhost:8080/"
        },
        "id": "7e6ed4a4",
        "outputId": "1733c3b7-9699-41f6-ee8e-c2e618ebd238"
      },
      "outputs": [
        {
          "output_type": "execute_result",
          "data": {
            "text/plain": [
              "Dataset({\n",
              "    features: ['text', 'input_ids', 'attention_mask'],\n",
              "    num_rows: 98\n",
              "})"
            ]
          },
          "metadata": {},
          "execution_count": 32
        }
      ],
      "source": [
        "tokenized_dataset"
      ]
    },
    {
      "cell_type": "code",
      "execution_count": 33,
      "id": "845c969e",
      "metadata": {
        "execution": {
          "iopub.execute_input": "2025-09-20T13:51:32.657723Z",
          "iopub.status.busy": "2025-09-20T13:51:32.656957Z",
          "iopub.status.idle": "2025-09-20T13:51:32.665808Z",
          "shell.execute_reply": "2025-09-20T13:51:32.665038Z"
        },
        "papermill": {
          "duration": 0.017341,
          "end_time": "2025-09-20T13:51:32.667329",
          "exception": false,
          "start_time": "2025-09-20T13:51:32.649988",
          "status": "completed"
        },
        "tags": [],
        "id": "845c969e"
      },
      "outputs": [],
      "source": [
        "# split Dataset to train ,test\n",
        "train_test = tokenized_dataset.train_test_split(test_size=0.2, seed=42)\n",
        "train_dataset = train_test[\"train\"]\n",
        "test_dataset = train_test[\"test\"]"
      ]
    },
    {
      "cell_type": "code",
      "execution_count": 34,
      "id": "1b20efc0",
      "metadata": {
        "execution": {
          "iopub.execute_input": "2025-09-20T13:51:32.681798Z",
          "iopub.status.busy": "2025-09-20T13:51:32.681043Z",
          "iopub.status.idle": "2025-09-20T13:51:32.685581Z",
          "shell.execute_reply": "2025-09-20T13:51:32.684573Z"
        },
        "papermill": {
          "duration": 0.013404,
          "end_time": "2025-09-20T13:51:32.687110",
          "exception": false,
          "start_time": "2025-09-20T13:51:32.673706",
          "status": "completed"
        },
        "tags": [],
        "id": "1b20efc0"
      },
      "outputs": [],
      "source": [
        "# GPT is CLM (Casual Langauge Model) : predict next token\n",
        "data_collator = DataCollatorForLanguageModeling(tokenizer=tokenizer,mlm=False)"
      ]
    },
    {
      "cell_type": "code",
      "execution_count": 35,
      "id": "bdd94d6b",
      "metadata": {
        "execution": {
          "iopub.execute_input": "2025-09-20T13:51:32.700759Z",
          "iopub.status.busy": "2025-09-20T13:51:32.700494Z",
          "iopub.status.idle": "2025-09-20T13:59:42.909751Z",
          "shell.execute_reply": "2025-09-20T13:59:42.908740Z"
        },
        "papermill": {
          "duration": 490.218114,
          "end_time": "2025-09-20T13:59:42.911666",
          "exception": false,
          "start_time": "2025-09-20T13:51:32.693552",
          "status": "completed"
        },
        "tags": [],
        "colab": {
          "base_uri": "https://localhost:8080/",
          "height": 353
        },
        "id": "bdd94d6b",
        "outputId": "bd5ba4b8-f2f0-48fe-b289-a4909656bb48"
      },
      "outputs": [
        {
          "output_type": "stream",
          "name": "stderr",
          "text": [
            "The tokenizer has new PAD/BOS/EOS tokens that differ from the model config and generation config. The model config and generation config were aligned accordingly, being updated with the tokenizer's values. Updated tokens: {'pad_token_id': 50257}.\n",
            "`loss_type=None` was set in the config but it is unrecognized. Using the default loss: `ForCausalLMLoss`.\n"
          ]
        },
        {
          "output_type": "display_data",
          "data": {
            "text/plain": [
              "<IPython.core.display.HTML object>"
            ],
            "text/html": [
              "\n",
              "    <div>\n",
              "      \n",
              "      <progress value='30' max='30' style='width:300px; height:20px; vertical-align: middle;'></progress>\n",
              "      [30/30 17:11, Epoch 6/6]\n",
              "    </div>\n",
              "    <table border=\"1\" class=\"dataframe\">\n",
              "  <thead>\n",
              " <tr style=\"text-align: left;\">\n",
              "      <th>Epoch</th>\n",
              "      <th>Training Loss</th>\n",
              "      <th>Validation Loss</th>\n",
              "    </tr>\n",
              "  </thead>\n",
              "  <tbody>\n",
              "    <tr>\n",
              "      <td>1</td>\n",
              "      <td>3.301900</td>\n",
              "      <td>2.625068</td>\n",
              "    </tr>\n",
              "    <tr>\n",
              "      <td>2</td>\n",
              "      <td>2.776600</td>\n",
              "      <td>2.549840</td>\n",
              "    </tr>\n",
              "    <tr>\n",
              "      <td>3</td>\n",
              "      <td>2.776600</td>\n",
              "      <td>2.514910</td>\n",
              "    </tr>\n",
              "    <tr>\n",
              "      <td>4</td>\n",
              "      <td>2.411300</td>\n",
              "      <td>2.496649</td>\n",
              "    </tr>\n",
              "    <tr>\n",
              "      <td>5</td>\n",
              "      <td>2.411300</td>\n",
              "      <td>2.485431</td>\n",
              "    </tr>\n",
              "    <tr>\n",
              "      <td>6</td>\n",
              "      <td>2.268100</td>\n",
              "      <td>2.480432</td>\n",
              "    </tr>\n",
              "  </tbody>\n",
              "</table><p>"
            ]
          },
          "metadata": {}
        },
        {
          "output_type": "execute_result",
          "data": {
            "text/plain": [
              "TrainOutput(global_step=30, training_loss=2.502848672866821, metrics={'train_runtime': 1138.4756, 'train_samples_per_second': 0.411, 'train_steps_per_second': 0.026, 'total_flos': 30571167744000.0, 'train_loss': 2.502848672866821, 'epoch': 6.0})"
            ]
          },
          "metadata": {},
          "execution_count": 35
        }
      ],
      "source": [
        "#  training args\n",
        "\n",
        "training_args = TrainingArguments(\n",
        "    output_dir=\"./results\",\n",
        "    num_train_epochs=6,\n",
        "    per_device_train_batch_size=16,\n",
        "    per_device_eval_batch_size=16,\n",
        "    weight_decay=0.1,\n",
        "    logging_dir=\"./logs\",\n",
        "    logging_steps=10,\n",
        "    logging_first_step=True,\n",
        "    logging_strategy=\"steps\",\n",
        "    report_to=\"none\",\n",
        "    save_steps=300,\n",
        "    overwrite_output_dir=True,\n",
        "    eval_strategy=\"epoch\",\n",
        "    disable_tqdm=False\n",
        ")\n",
        "\n",
        "trainer = Trainer(\n",
        "    model=model,\n",
        "    args=training_args,\n",
        "    train_dataset=train_dataset,\n",
        "    eval_dataset=test_dataset,\n",
        "    tokenizer=tokenizer,\n",
        "    data_collator=data_collator,\n",
        ")\n",
        "trainer.train()\n"
      ]
    },
    {
      "cell_type": "code",
      "execution_count": 36,
      "id": "463818de",
      "metadata": {
        "execution": {
          "iopub.execute_input": "2025-09-20T13:59:42.927049Z",
          "iopub.status.busy": "2025-09-20T13:59:42.926650Z",
          "iopub.status.idle": "2025-09-20T13:59:48.798267Z",
          "shell.execute_reply": "2025-09-20T13:59:48.797460Z"
        },
        "papermill": {
          "duration": 5.880722,
          "end_time": "2025-09-20T13:59:48.799668",
          "exception": false,
          "start_time": "2025-09-20T13:59:42.918946",
          "status": "completed"
        },
        "tags": [],
        "colab": {
          "base_uri": "https://localhost:8080/",
          "height": 124
        },
        "id": "463818de",
        "outputId": "d5f74f1c-a50a-4a94-aa63-f7666c80398c"
      },
      "outputs": [
        {
          "output_type": "display_data",
          "data": {
            "text/plain": [
              "<IPython.core.display.HTML object>"
            ],
            "text/html": [
              "\n",
              "    <div>\n",
              "      \n",
              "      <progress value='2' max='2' style='width:300px; height:20px; vertical-align: middle;'></progress>\n",
              "      [2/2 00:02]\n",
              "    </div>\n",
              "    "
            ]
          },
          "metadata": {}
        },
        {
          "output_type": "execute_result",
          "data": {
            "text/plain": [
              "{'eval_loss': 2.4804320335388184,\n",
              " 'eval_runtime': 11.8297,\n",
              " 'eval_samples_per_second': 1.691,\n",
              " 'eval_steps_per_second': 0.169,\n",
              " 'epoch': 6.0}"
            ]
          },
          "metadata": {},
          "execution_count": 36
        }
      ],
      "source": [
        "trainer.evaluate()"
      ]
    },
    {
      "cell_type": "markdown",
      "id": "0d6f08ce",
      "metadata": {
        "papermill": {
          "duration": 0.006293,
          "end_time": "2025-09-20T13:59:48.923361",
          "exception": false,
          "start_time": "2025-09-20T13:59:48.917068",
          "status": "completed"
        },
        "tags": [],
        "id": "0d6f08ce"
      },
      "source": [
        "# Testing"
      ]
    },
    {
      "cell_type": "code",
      "execution_count": 37,
      "id": "de5814e7",
      "metadata": {
        "execution": {
          "iopub.execute_input": "2025-09-20T13:59:48.937441Z",
          "iopub.status.busy": "2025-09-20T13:59:48.937124Z",
          "iopub.status.idle": "2025-09-20T13:59:49.786035Z",
          "shell.execute_reply": "2025-09-20T13:59:49.785247Z"
        },
        "papermill": {
          "duration": 0.857627,
          "end_time": "2025-09-20T13:59:49.787387",
          "exception": false,
          "start_time": "2025-09-20T13:59:48.929760",
          "status": "completed"
        },
        "tags": [],
        "colab": {
          "base_uri": "https://localhost:8080/"
        },
        "id": "de5814e7",
        "outputId": "227c56b8-869c-4ef4-e991-6769753cea51"
      },
      "outputs": [
        {
          "output_type": "execute_result",
          "data": {
            "text/plain": [
              "('./mental_health_gpt2/tokenizer_config.json',\n",
              " './mental_health_gpt2/special_tokens_map.json',\n",
              " './mental_health_gpt2/vocab.json',\n",
              " './mental_health_gpt2/merges.txt',\n",
              " './mental_health_gpt2/added_tokens.json')"
            ]
          },
          "metadata": {},
          "execution_count": 37
        }
      ],
      "source": [
        "trainer.save_model(\"./mental_health_gpt2\")\n",
        "tokenizer.save_pretrained(\"./mental_health_gpt2\")"
      ]
    },
    {
      "cell_type": "code",
      "execution_count": 38,
      "id": "44defe98",
      "metadata": {
        "execution": {
          "iopub.execute_input": "2025-09-20T13:59:49.802203Z",
          "iopub.status.busy": "2025-09-20T13:59:49.801915Z",
          "iopub.status.idle": "2025-09-20T13:59:49.976761Z",
          "shell.execute_reply": "2025-09-20T13:59:49.975831Z"
        },
        "papermill": {
          "duration": 0.184311,
          "end_time": "2025-09-20T13:59:49.978573",
          "exception": false,
          "start_time": "2025-09-20T13:59:49.794262",
          "status": "completed"
        },
        "tags": [],
        "id": "44defe98"
      },
      "outputs": [],
      "source": [
        "model = GPT2LMHeadModel.from_pretrained(\"./mental_health_gpt2\")\n",
        "tokenizer = GPT2Tokenizer.from_pretrained(\"./mental_health_gpt2\")\n",
        "\n",
        "model.config.pad_token_id = tokenizer.pad_token_id"
      ]
    },
    {
      "cell_type": "markdown",
      "source": [
        "# Testing"
      ],
      "metadata": {
        "id": "i-y8mvLRdiP9"
      },
      "id": "i-y8mvLRdiP9"
    },
    {
      "cell_type": "code",
      "execution_count": 39,
      "id": "489481f8",
      "metadata": {
        "execution": {
          "iopub.execute_input": "2025-09-20T13:59:49.994248Z",
          "iopub.status.busy": "2025-09-20T13:59:49.993913Z",
          "iopub.status.idle": "2025-09-20T13:59:52.293763Z",
          "shell.execute_reply": "2025-09-20T13:59:52.292793Z"
        },
        "papermill": {
          "duration": 2.309674,
          "end_time": "2025-09-20T13:59:52.295308",
          "exception": false,
          "start_time": "2025-09-20T13:59:49.985634",
          "status": "completed"
        },
        "tags": [],
        "colab": {
          "base_uri": "https://localhost:8080/",
          "height": 70
        },
        "id": "489481f8",
        "outputId": "4ffd5b13-d9bd-4636-80f2-9d197c4ed1dd"
      },
      "outputs": [
        {
          "output_type": "execute_result",
          "data": {
            "text/plain": [
              "\"What is depression?\\nA depression is a mental health problem that occurs when your brain or other bodily system fails to make decisions. It is a mental health issue that affects everyone. Your brain is your brain, so it can process information, but it doesn't make decisions\""
            ],
            "application/vnd.google.colaboratory.intrinsic+json": {
              "type": "string"
            }
          },
          "metadata": {},
          "execution_count": 39
        }
      ],
      "source": [
        "# Test\n",
        "\n",
        "# Question = input(\"Enter Your Question About Mental_Health : \")\n",
        "# \"Q: Question\\nA:\"\n",
        "# Question = \"Q: \"+Question+\"\\nA\"\n",
        "\n",
        "\n",
        "Question = \"What is depression?\"\n",
        "# apply tokenizer\n",
        "inputs = tokenizer(Question , padding=\"max_length\",return_tensors=\"pt\",truncation=True,max_length=128 )\n",
        "\n",
        "# generate output\n",
        "output_ids = model.generate(inputs[\"input_ids\"],max_new_tokens=50,\n",
        "                          pad_token_id=tokenizer.pad_token_id,\n",
        "                         do_sample=True,\n",
        "                         top_k=10,\n",
        "                        top_p=0.95, )\n",
        "generated_text = tokenizer.decode(output_ids[0], skip_special_tokens=True)\n",
        "generated_text"
      ]
    },
    {
      "cell_type": "markdown",
      "source": [
        "# combine With RAG"
      ],
      "metadata": {
        "id": "1IAiG_DMNc0q"
      },
      "id": "1IAiG_DMNc0q"
    },
    {
      "cell_type": "code",
      "execution_count": 40,
      "id": "bf21aab2",
      "metadata": {
        "papermill": {
          "duration": 0.006475,
          "end_time": "2025-09-20T13:59:52.310641",
          "exception": false,
          "start_time": "2025-09-20T13:59:52.304166",
          "status": "completed"
        },
        "tags": [],
        "id": "bf21aab2"
      },
      "outputs": [],
      "source": [
        "from langchain.document_loaders import PyPDFLoader\n",
        "from langchain.schema import Document\n",
        "from langchain.text_splitter import RecursiveCharacterTextSplitter\n",
        "from langchain.embeddings import HuggingFaceEmbeddings\n",
        "from langchain.vectorstores import FAISS\n",
        "from langchain.chains import RetrievalQA\n",
        "from langchain_community.llms import HuggingFacePipeline\n",
        "from transformers import pipeline"
      ]
    },
    {
      "cell_type": "code",
      "source": [
        "# Load Documents\n",
        "\n",
        "def load_documents(file_path):\n",
        "    loader = PyPDFLoader(file_path)\n",
        "    documents = loader.load()\n",
        "    return documents\n",
        "\n",
        "pdf1 = load_documents(\"/content/Anxiety-Disorders-Explained-NIMH-1.pdf\")\n",
        "pdf2 = load_documents(\"/content/NIMH_Depression.pdf\")\n",
        "pdf3 = load_documents(\"/content/post-traumatic-stress-disorder.pdf\")\n",
        "pdf4 = load_documents(\"/content/bipolar-disorder_0.pdf\")\n",
        "pdf5 = load_documents(\"/content/schizophrenia.pdf\")\n",
        "\n",
        "documents = pdf1 + pdf2 + pdf3 + pdf4 + pdf5"
      ],
      "metadata": {
        "id": "Vmku5FiLON6Q"
      },
      "id": "Vmku5FiLON6Q",
      "execution_count": 41,
      "outputs": []
    },
    {
      "cell_type": "code",
      "source": [
        "# split documents to chunks\n",
        "\n",
        "text_splitter = RecursiveCharacterTextSplitter(chunk_size=500, chunk_overlap=100)\n",
        "texts = text_splitter.split_documents(documents)\n",
        "\n",
        "print(f\"Number of chunks {len(texts)}\")"
      ],
      "metadata": {
        "colab": {
          "base_uri": "https://localhost:8080/"
        },
        "id": "-bGY8BaTRgqk",
        "outputId": "89878ba3-f5e4-4f4d-a9a0-203e966c7816"
      },
      "id": "-bGY8BaTRgqk",
      "execution_count": 42,
      "outputs": [
        {
          "output_type": "stream",
          "name": "stdout",
          "text": [
            "Number of chunks 348\n"
          ]
        }
      ]
    },
    {
      "cell_type": "code",
      "source": [
        "# embedding each chunk\n",
        "\n",
        "embeddings = HuggingFaceEmbeddings(model_name=\"sentence-transformers/all-MiniLM-L6-v2\")"
      ],
      "metadata": {
        "id": "qVDkAI9oUqVK"
      },
      "id": "qVDkAI9oUqVK",
      "execution_count": 43,
      "outputs": []
    },
    {
      "cell_type": "code",
      "source": [
        "# indexing with FAISS\n",
        "\n",
        "db = FAISS.from_documents(texts, embeddings)\n",
        "retriver = db.as_retriever(search_kwargs={'k': 2})"
      ],
      "metadata": {
        "id": "nk8bi7HvUzaJ"
      },
      "id": "nk8bi7HvUzaJ",
      "execution_count": 69,
      "outputs": []
    },
    {
      "cell_type": "code",
      "source": [
        "# define LLM model\n",
        "\n",
        "# hf_pipeline = pipeline(\"text-generation\",model = model,tokenizer = tokenizer)\n",
        "# llm = HuggingFacePipeline(pipeline = hf_pipeline)\n",
        "\n",
        "\n",
        "# The modification happens when defining the HuggingFace pipeline\n",
        "hf_pipeline = pipeline(\n",
        "    \"text-generation\", model=model,tokenizer=tokenizer,\n",
        "      max_new_tokens=300\n",
        ")\n",
        "\n",
        "llm = HuggingFacePipeline(pipeline=hf_pipeline)"
      ],
      "metadata": {
        "colab": {
          "base_uri": "https://localhost:8080/"
        },
        "id": "NQMzPKgZU_MA",
        "outputId": "bd87fc6f-2cf5-4af5-df05-5e0a561c1675"
      },
      "id": "NQMzPKgZU_MA",
      "execution_count": 79,
      "outputs": [
        {
          "output_type": "stream",
          "name": "stderr",
          "text": [
            "Device set to use cpu\n"
          ]
        }
      ]
    },
    {
      "cell_type": "code",
      "source": [
        "# qa_chain = RetrievalQA( llm = llm,retriever = retriver )\n",
        "\n",
        "qa_chain = RetrievalQA.from_chain_type(\n",
        "    llm=llm,                # Pass your LLM here\n",
        "    chain_type=\"map_reduce\",      # This is the default chain type (stuffs all documents into the prompt)\n",
        "    retriever=retriver      # Pass your retriever instance here\n",
        ")"
      ],
      "metadata": {
        "id": "KAkX18-XV50d"
      },
      "id": "KAkX18-XV50d",
      "execution_count": 84,
      "outputs": []
    },
    {
      "cell_type": "markdown",
      "source": [
        "# Final Testing"
      ],
      "metadata": {
        "id": "qJT1s_Ezg1xg"
      },
      "id": "qJT1s_Ezg1xg"
    },
    {
      "cell_type": "markdown",
      "source": [
        "- Query2"
      ],
      "metadata": {
        "id": "cLPbMX5GcFgj"
      },
      "id": "cLPbMX5GcFgj"
    },
    {
      "cell_type": "code",
      "source": [
        "query2 = \"Compare the symptoms of a depressive episode in Bipolar Disorder versus the general symptoms of Major Depression. Are the core feelings of sadness, hopelessness, and indifference common to both?\"\n",
        "result2 = qa_chain.run(query2)\n",
        "print(result2)"
      ],
      "metadata": {
        "colab": {
          "base_uri": "https://localhost:8080/"
        },
        "id": "SgjheQjYa32l",
        "outputId": "4681696a-691a-4a4d-c568-e266b1d4352e"
      },
      "id": "SgjheQjYa32l",
      "execution_count": 82,
      "outputs": [
        {
          "output_type": "stream",
          "name": "stdout",
          "text": [
            "Use the following pieces of context to answer the question at the end. If you don't know the answer, just say that you don't know, don't try to make up an answer.\n",
            "\n",
            "Feeling unusually important, talented, \n",
            "or powerful\n",
            "Feeling hopeless or worthless, or \n",
            "thinking about death or suicide\n",
            "Some people with bipolar disorder may have milder symptoms than others. For \n",
            "example, hypomanic episodes may make an individual feel very good and \n",
            "productive; they may not feel like anything is wrong. However, family and friends \n",
            "may notice the mood swings and changes in activity levels as unusual behavior, \n",
            "and depressive episodes may follow hypomanic episodes.\n",
            "\n",
            "4\n",
            "Depression\n",
            "National Institute of Mental Health\n",
            "What are the symptoms of depression?\n",
            "People with depressive illnesses do not all experience the \n",
            "same symptoms. The severity, frequency and duration of \n",
            "symptoms will vary depending on the individual and his or \n",
            "her particular illness. \n",
            "symptoms\n",
            "Persistent sad, anxious or “empty” feelings\n",
            "Feelings of hopelessness and/or pessimism\n",
            "Feelings of guilt, worthlessness and/or helplessness\n",
            "Irritability, restlessness\n",
            "\n",
            "Question: Compare the symptoms of a depressive episode in Bipolar Disorder versus the general symptoms of Major Depression. Are the core feelings of sadness, hopelessness, and indifference common to both?\n",
            "Helpful Answer: Some people experience \n",
            "depression differently depending on the severity of the illness. Depression may be more severe when it is caused by feelings of depression. \n",
            "  Symptoms of \n",
            "depression occur when you experience symptoms that are not related to \n",
            "symptoms of  mood disorder. Symptoms of mood disorders are usually signs of symptoms of \n",
            "mood disorder, which is a combination of symptoms of depression and mood disorders. Symptoms of mood disorders can be found in \n",
            "Mood Disorders: Symptoms of depression (or mood disorders) can be thought of as symptoms of \n",
            "depression and \n",
            "depression can be thought of as symptoms of         \n",
            " The severity is often measured by a number of \n",
            "symptoms, usually \n",
            "                \n",
            " Many people experience multiple symptoms, including: \n",
            "the mood swings and shifts in functioning of the brain, \n",
            "the depressive symptoms, \n",
            "the delusions, \n",
            " the hallucinations, \n",
            "the changes in mood, \n",
            "             \n",
            " Many people experience several different symptoms, including: \n",
            "the mood shifts and shifts in functioning of the brain, \n",
            "the depressive symptoms, \n",
            "the delusions, \n",
            "the hallucinations, \n",
            "the changes in mood,  \n",
            "              \n",
            "  \n"
          ]
        }
      ]
    },
    {
      "cell_type": "markdown",
      "source": [
        "- Query3"
      ],
      "metadata": {
        "id": "T4i8a92tdNyt"
      },
      "id": "T4i8a92tdNyt"
    },
    {
      "cell_type": "code",
      "source": [
        "query3 = \"What co-occurring mental conditions are mentioned for Bipolar Disorder and Schizophrenia? Does the information suggest that having an anxiety disorder might lead to symptoms of psychosis, and if so, how?\"\n",
        "result3 = qa_chain.run(query3)\n",
        "print(result3)"
      ],
      "metadata": {
        "colab": {
          "base_uri": "https://localhost:8080/"
        },
        "id": "k9y127eBcNKQ",
        "outputId": "4bd1badb-bffd-4ac3-f0ee-a022d308a5c9"
      },
      "id": "k9y127eBcNKQ",
      "execution_count": 83,
      "outputs": [
        {
          "output_type": "stream",
          "name": "stdout",
          "text": [
            "Use the following pieces of context to answer the question at the end. If you don't know the answer, just say that you don't know, don't try to make up an answer.\n",
            "\n",
            "Conditions That Can Co-Occur With Bipolar Disorder\n",
            "Many people with bipolar disorder also have other mental disorders or conditions \n",
            "such as anxiety disorders, attention-deficit/hyperactivity disorder (ADHD), misuse \n",
            "of drugs or alcohol, or eating disorders. Sometimes people who have severe \n",
            "manic or depressive episodes also have symptoms of psychosis, such as \n",
            "hallucinations or delusions. The psychotic symptoms tend to match the person’s\n",
            "\n",
            "hallucinations or delusions. The psychotic symptoms tend to match the person’s \n",
            "extreme mood. For example, someone having psychotic symptoms during a \n",
            "depressive episode may falsely believe they are financially ruined, while \n",
            "someone having psychotic symptoms during a manic episode may falsely believe \n",
            "they are famous or have special powers.\n",
            "Looking at symptoms over the course of the illness and the person’s family \n",
            "history can help determine whether a person has bipolar disorder along with\n",
            "\n",
            "Question: What co-occurring mental conditions are mentioned for Bipolar Disorder and Schizophrenia? Does the information suggest that having an anxiety disorder might lead to symptoms of psychosis, and if so, how?\n",
            "Helpful Answer: \n",
            "’ People with bipolar disorder often feel that they have a new mood or anxiety disorder. If it is the person with bipolar disorder, they may feel like they are experiencing some sort of changes, but it can be hard to tell what changes or changes are taking place. \n",
            "’ It is important to recognize that bipolar disorder (and schizophrenia) are typically thought of as two separate disorders, and that it can occur on the same day. These symptoms may appear at the same time, but they are not related. \n",
            "’ Sometimes, they may be symptoms of a combination of bipolar disorder, schizophrenia, or \n",
            "other mental disorders. Sometimes, it can go both ways, and you may see symptoms of bipolar disorder \n",
            "that aren’t symptoms of schizophrenia, and \n",
            "or other mental disorders. \n",
            "’ Sometimes, bipolar disorder may be the cause of a family or other social \n",
            "occurring disorder. For example, someone with bipolar disorder may have many other mental disorders \n",
            "or  some other \n",
            "occurrence, such as obsessive-compulsive disorder. \n",
            "’ The symptoms of schizophrenia may appear on the same day as symptoms of bipolar disorder. \n",
            "’ For example, someone with schizophrenia may show symptoms of psychosis, \n",
            "  or                          \n",
            "There are other mental disorders that are common with bipolar\n"
          ]
        }
      ]
    },
    {
      "cell_type": "code",
      "source": [],
      "metadata": {
        "id": "0FUvyMHQdY57"
      },
      "id": "0FUvyMHQdY57",
      "execution_count": 85,
      "outputs": []
    }
  ],
  "metadata": {
    "kaggle": {
      "accelerator": "none",
      "dataSources": [
        {
          "datasetId": 903283,
          "sourceId": 1531926,
          "sourceType": "datasetVersion"
        }
      ],
      "dockerImageVersionId": 31089,
      "isGpuEnabled": false,
      "isInternetEnabled": true,
      "language": "python",
      "sourceType": "notebook"
    },
    "kernelspec": {
      "display_name": "Python 3",
      "name": "python3"
    },
    "language_info": {
      "codemirror_mode": {
        "name": "ipython",
        "version": 3
      },
      "file_extension": ".py",
      "mimetype": "text/x-python",
      "name": "python",
      "nbconvert_exporter": "python",
      "pygments_lexer": "ipython3",
      "version": "3.11.13"
    },
    "papermill": {
      "default_parameters": {},
      "duration": 553.828589,
      "end_time": "2025-09-20T13:59:56.134063",
      "environment_variables": {},
      "exception": null,
      "input_path": "__notebook__.ipynb",
      "output_path": "__notebook__.ipynb",
      "parameters": {},
      "start_time": "2025-09-20T13:50:42.305474",
      "version": "2.6.0"
    },
    "widgets": {
      "application/vnd.jupyter.widget-state+json": {
        "09b4bf5603a14aad969b50331ac1d629": {
          "model_module": "@jupyter-widgets/controls",
          "model_name": "HBoxModel",
          "model_module_version": "1.5.0",
          "state": {
            "_dom_classes": [],
            "_model_module": "@jupyter-widgets/controls",
            "_model_module_version": "1.5.0",
            "_model_name": "HBoxModel",
            "_view_count": null,
            "_view_module": "@jupyter-widgets/controls",
            "_view_module_version": "1.5.0",
            "_view_name": "HBoxView",
            "box_style": "",
            "children": [
              "IPY_MODEL_8d10f2fa4faa4495a4aaac7dd94b814b",
              "IPY_MODEL_0f004289b40a4239ad161c8727b9f18a",
              "IPY_MODEL_c3e32d13de3d4daea5fa42c7cacdb454"
            ],
            "layout": "IPY_MODEL_2cc4177d37544691b12498d788aafe6d"
          }
        },
        "8d10f2fa4faa4495a4aaac7dd94b814b": {
          "model_module": "@jupyter-widgets/controls",
          "model_name": "HTMLModel",
          "model_module_version": "1.5.0",
          "state": {
            "_dom_classes": [],
            "_model_module": "@jupyter-widgets/controls",
            "_model_module_version": "1.5.0",
            "_model_name": "HTMLModel",
            "_view_count": null,
            "_view_module": "@jupyter-widgets/controls",
            "_view_module_version": "1.5.0",
            "_view_name": "HTMLView",
            "description": "",
            "description_tooltip": null,
            "layout": "IPY_MODEL_0ea0f07249a14a78a6f104ac0329750b",
            "placeholder": "​",
            "style": "IPY_MODEL_6cc8efe5079648e6bb8a90a9c0dd9a17",
            "value": "Map: 100%"
          }
        },
        "0f004289b40a4239ad161c8727b9f18a": {
          "model_module": "@jupyter-widgets/controls",
          "model_name": "FloatProgressModel",
          "model_module_version": "1.5.0",
          "state": {
            "_dom_classes": [],
            "_model_module": "@jupyter-widgets/controls",
            "_model_module_version": "1.5.0",
            "_model_name": "FloatProgressModel",
            "_view_count": null,
            "_view_module": "@jupyter-widgets/controls",
            "_view_module_version": "1.5.0",
            "_view_name": "ProgressView",
            "bar_style": "success",
            "description": "",
            "description_tooltip": null,
            "layout": "IPY_MODEL_17fb2fc3141846b59014b0ee3660030c",
            "max": 98,
            "min": 0,
            "orientation": "horizontal",
            "style": "IPY_MODEL_10297e07b5c344a59c1da1a7c3e702d9",
            "value": 98
          }
        },
        "c3e32d13de3d4daea5fa42c7cacdb454": {
          "model_module": "@jupyter-widgets/controls",
          "model_name": "HTMLModel",
          "model_module_version": "1.5.0",
          "state": {
            "_dom_classes": [],
            "_model_module": "@jupyter-widgets/controls",
            "_model_module_version": "1.5.0",
            "_model_name": "HTMLModel",
            "_view_count": null,
            "_view_module": "@jupyter-widgets/controls",
            "_view_module_version": "1.5.0",
            "_view_name": "HTMLView",
            "description": "",
            "description_tooltip": null,
            "layout": "IPY_MODEL_46d24273692e49b0ba88978c2b1dd95b",
            "placeholder": "​",
            "style": "IPY_MODEL_e063d474729945dea5dcad4330593b3f",
            "value": " 98/98 [00:02&lt;00:00, 44.49 examples/s]"
          }
        },
        "2cc4177d37544691b12498d788aafe6d": {
          "model_module": "@jupyter-widgets/base",
          "model_name": "LayoutModel",
          "model_module_version": "1.2.0",
          "state": {
            "_model_module": "@jupyter-widgets/base",
            "_model_module_version": "1.2.0",
            "_model_name": "LayoutModel",
            "_view_count": null,
            "_view_module": "@jupyter-widgets/base",
            "_view_module_version": "1.2.0",
            "_view_name": "LayoutView",
            "align_content": null,
            "align_items": null,
            "align_self": null,
            "border": null,
            "bottom": null,
            "display": null,
            "flex": null,
            "flex_flow": null,
            "grid_area": null,
            "grid_auto_columns": null,
            "grid_auto_flow": null,
            "grid_auto_rows": null,
            "grid_column": null,
            "grid_gap": null,
            "grid_row": null,
            "grid_template_areas": null,
            "grid_template_columns": null,
            "grid_template_rows": null,
            "height": null,
            "justify_content": null,
            "justify_items": null,
            "left": null,
            "margin": null,
            "max_height": null,
            "max_width": null,
            "min_height": null,
            "min_width": null,
            "object_fit": null,
            "object_position": null,
            "order": null,
            "overflow": null,
            "overflow_x": null,
            "overflow_y": null,
            "padding": null,
            "right": null,
            "top": null,
            "visibility": null,
            "width": null
          }
        },
        "0ea0f07249a14a78a6f104ac0329750b": {
          "model_module": "@jupyter-widgets/base",
          "model_name": "LayoutModel",
          "model_module_version": "1.2.0",
          "state": {
            "_model_module": "@jupyter-widgets/base",
            "_model_module_version": "1.2.0",
            "_model_name": "LayoutModel",
            "_view_count": null,
            "_view_module": "@jupyter-widgets/base",
            "_view_module_version": "1.2.0",
            "_view_name": "LayoutView",
            "align_content": null,
            "align_items": null,
            "align_self": null,
            "border": null,
            "bottom": null,
            "display": null,
            "flex": null,
            "flex_flow": null,
            "grid_area": null,
            "grid_auto_columns": null,
            "grid_auto_flow": null,
            "grid_auto_rows": null,
            "grid_column": null,
            "grid_gap": null,
            "grid_row": null,
            "grid_template_areas": null,
            "grid_template_columns": null,
            "grid_template_rows": null,
            "height": null,
            "justify_content": null,
            "justify_items": null,
            "left": null,
            "margin": null,
            "max_height": null,
            "max_width": null,
            "min_height": null,
            "min_width": null,
            "object_fit": null,
            "object_position": null,
            "order": null,
            "overflow": null,
            "overflow_x": null,
            "overflow_y": null,
            "padding": null,
            "right": null,
            "top": null,
            "visibility": null,
            "width": null
          }
        },
        "6cc8efe5079648e6bb8a90a9c0dd9a17": {
          "model_module": "@jupyter-widgets/controls",
          "model_name": "DescriptionStyleModel",
          "model_module_version": "1.5.0",
          "state": {
            "_model_module": "@jupyter-widgets/controls",
            "_model_module_version": "1.5.0",
            "_model_name": "DescriptionStyleModel",
            "_view_count": null,
            "_view_module": "@jupyter-widgets/base",
            "_view_module_version": "1.2.0",
            "_view_name": "StyleView",
            "description_width": ""
          }
        },
        "17fb2fc3141846b59014b0ee3660030c": {
          "model_module": "@jupyter-widgets/base",
          "model_name": "LayoutModel",
          "model_module_version": "1.2.0",
          "state": {
            "_model_module": "@jupyter-widgets/base",
            "_model_module_version": "1.2.0",
            "_model_name": "LayoutModel",
            "_view_count": null,
            "_view_module": "@jupyter-widgets/base",
            "_view_module_version": "1.2.0",
            "_view_name": "LayoutView",
            "align_content": null,
            "align_items": null,
            "align_self": null,
            "border": null,
            "bottom": null,
            "display": null,
            "flex": null,
            "flex_flow": null,
            "grid_area": null,
            "grid_auto_columns": null,
            "grid_auto_flow": null,
            "grid_auto_rows": null,
            "grid_column": null,
            "grid_gap": null,
            "grid_row": null,
            "grid_template_areas": null,
            "grid_template_columns": null,
            "grid_template_rows": null,
            "height": null,
            "justify_content": null,
            "justify_items": null,
            "left": null,
            "margin": null,
            "max_height": null,
            "max_width": null,
            "min_height": null,
            "min_width": null,
            "object_fit": null,
            "object_position": null,
            "order": null,
            "overflow": null,
            "overflow_x": null,
            "overflow_y": null,
            "padding": null,
            "right": null,
            "top": null,
            "visibility": null,
            "width": null
          }
        },
        "10297e07b5c344a59c1da1a7c3e702d9": {
          "model_module": "@jupyter-widgets/controls",
          "model_name": "ProgressStyleModel",
          "model_module_version": "1.5.0",
          "state": {
            "_model_module": "@jupyter-widgets/controls",
            "_model_module_version": "1.5.0",
            "_model_name": "ProgressStyleModel",
            "_view_count": null,
            "_view_module": "@jupyter-widgets/base",
            "_view_module_version": "1.2.0",
            "_view_name": "StyleView",
            "bar_color": null,
            "description_width": ""
          }
        },
        "46d24273692e49b0ba88978c2b1dd95b": {
          "model_module": "@jupyter-widgets/base",
          "model_name": "LayoutModel",
          "model_module_version": "1.2.0",
          "state": {
            "_model_module": "@jupyter-widgets/base",
            "_model_module_version": "1.2.0",
            "_model_name": "LayoutModel",
            "_view_count": null,
            "_view_module": "@jupyter-widgets/base",
            "_view_module_version": "1.2.0",
            "_view_name": "LayoutView",
            "align_content": null,
            "align_items": null,
            "align_self": null,
            "border": null,
            "bottom": null,
            "display": null,
            "flex": null,
            "flex_flow": null,
            "grid_area": null,
            "grid_auto_columns": null,
            "grid_auto_flow": null,
            "grid_auto_rows": null,
            "grid_column": null,
            "grid_gap": null,
            "grid_row": null,
            "grid_template_areas": null,
            "grid_template_columns": null,
            "grid_template_rows": null,
            "height": null,
            "justify_content": null,
            "justify_items": null,
            "left": null,
            "margin": null,
            "max_height": null,
            "max_width": null,
            "min_height": null,
            "min_width": null,
            "object_fit": null,
            "object_position": null,
            "order": null,
            "overflow": null,
            "overflow_x": null,
            "overflow_y": null,
            "padding": null,
            "right": null,
            "top": null,
            "visibility": null,
            "width": null
          }
        },
        "e063d474729945dea5dcad4330593b3f": {
          "model_module": "@jupyter-widgets/controls",
          "model_name": "DescriptionStyleModel",
          "model_module_version": "1.5.0",
          "state": {
            "_model_module": "@jupyter-widgets/controls",
            "_model_module_version": "1.5.0",
            "_model_name": "DescriptionStyleModel",
            "_view_count": null,
            "_view_module": "@jupyter-widgets/base",
            "_view_module_version": "1.2.0",
            "_view_name": "StyleView",
            "description_width": ""
          }
        }
      }
    },
    "colab": {
      "provenance": []
    }
  },
  "nbformat": 4,
  "nbformat_minor": 5
}